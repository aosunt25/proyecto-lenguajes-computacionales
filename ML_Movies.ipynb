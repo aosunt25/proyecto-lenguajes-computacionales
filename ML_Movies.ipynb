{
 "cells": [
  {
   "cell_type": "markdown",
   "id": "saved-welsh",
   "metadata": {},
   "source": [
    "# Proyecto Final\n"
   ]
  },
  {
   "cell_type": "markdown",
   "id": "incident-tutorial",
   "metadata": {},
   "source": [
    "- Alfredo Osuna\n",
    "- Raul Gonzalez"
   ]
  },
  {
   "cell_type": "markdown",
   "id": "compatible-horror",
   "metadata": {},
   "source": [
    "#### Librerias Necesarias"
   ]
  },
  {
   "cell_type": "code",
   "execution_count": 177,
   "id": "primary-pharmaceutical",
   "metadata": {},
   "outputs": [
    {
     "name": "stderr",
     "output_type": "stream",
     "text": [
      "Execution error (FileNotFoundException) at user/eval4313 (REPL:2).\r\n",
      "Could not locate clojure/core/matrix__init.class, clojure/core/matrix.clj or clojure/core/matrix.cljc on classpath.\r\n"
     ]
    },
    {
     "ename": "class java.io.FileNotFoundException",
     "evalue": "",
     "output_type": "error",
     "traceback": [
      "    RT.java:   462 clojure.lang.RT/load",
      "   core.clj:  6126 clojure.core$load$fn__6839/invoke",
      "   core.clj:  6125 clojure.core$load/invokeStatic",
      "   core.clj:  6109 clojure.core$load/doInvoke",
      "RestFn.java:   408 clojure.lang.RestFn/invoke",
      "   core.clj:  5908 clojure.core$load_one/invokeStatic",
      "   core.clj:  5903 clojure.core$load_one/invoke",
      "   core.clj:  5948 clojure.core$load_lib$fn__6780/invoke",
      "   core.clj:  5947 clojure.core$load_lib/invokeStatic",
      "   core.clj:  5928 clojure.core$load_lib/doInvoke",
      "RestFn.java:   142 clojure.lang.RestFn/applyTo",
      "   core.clj:   667 clojure.core$apply/invokeStatic",
      "   core.clj:  5985 clojure.core$load_libs/invokeStatic",
      "   core.clj:  5969 clojure.core$load_libs/doInvoke",
      "RestFn.java:   137 clojure.lang.RestFn/applyTo",
      "   core.clj:   669 clojure.core$apply/invokeStatic",
      "   core.clj:  6093 clojure.core$use/invokeStatic",
      "RestFn.java:   408 clojure.lang.RestFn/invoke",
      "   core.clj:  3214 clojure.core$eval/invokeStatic",
      "   core.clj:  3210 clojure.core$eval/invoke",
      "   main.clj:   437 clojure.main$repl$read_eval_print__9086$fn__9089/invoke",
      "   main.clj:   458 clojure.main$repl$fn__9095/invoke",
      "   main.clj:   368 clojure.main$repl/doInvoke",
      "RestFn.java:  1523 clojure.lang.RestFn/invoke",
      "   AFn.java:    22 clojure.lang.AFn/run",
      "   AFn.java:    22 clojure.lang.AFn/run",
      "Thread.java:   745 java.lang.Thread/run"
     ]
    }
   ],
   "source": [
    "(require '[clojure.string :as s])\n",
    "(use 'clojure.core.matrix)\n",
    "(defn toInt[x] (Integer/parseInt x));Java\n",
    "(defn toDouble[x] (Double/parseDouble x));Java"
   ]
  },
  {
   "cell_type": "markdown",
   "id": "educational-guard",
   "metadata": {},
   "source": [
    "Clase de Pelicula"
   ]
  },
  {
   "cell_type": "code",
   "execution_count": 15,
   "id": "european-shore",
   "metadata": {},
   "outputs": [
    {
     "data": {
      "text/plain": [
       "user.Movie"
      ]
     },
     "execution_count": 15,
     "metadata": {},
     "output_type": "execute_result"
    }
   ],
   "source": [
    "(defrecord Movie [x0 imdb runtime rottenTomato]\n",
    "    Object \n",
    "    (toString [this]\n",
    "              (format \"%s,%s,%s,%s\" x0 imdb runtime rottenTomato)\n",
    "              )\n",
    "    )"
   ]
  },
  {
   "cell_type": "markdown",
   "id": "early-coaching",
   "metadata": {},
   "source": [
    "Lectura de informacion"
   ]
  },
  {
   "cell_type": "code",
   "execution_count": 17,
   "id": "wanted-family",
   "metadata": {},
   "outputs": [
    {
     "data": {
      "text/plain": [
       "#'user/data"
      ]
     },
     "execution_count": 17,
     "metadata": {},
     "output_type": "execute_result"
    }
   ],
   "source": [
    "(def data (vec (rest (s/split-lines (slurp \"Clean-Data.csv\") ) ) ) )"
   ]
  },
  {
   "cell_type": "markdown",
   "id": "classified-progress",
   "metadata": {},
   "source": [
    "Conversion de datos"
   ]
  },
  {
   "cell_type": "code",
   "execution_count": 18,
   "id": "offshore-huntington",
   "metadata": {},
   "outputs": [
    {
     "data": {
      "text/plain": [
       "#'user/toMovie"
      ]
     },
     "execution_count": 18,
     "metadata": {},
     "output_type": "execute_result"
    }
   ],
   "source": [
    "(defn toMovie[ record ]\n",
    "    (Movie. \n",
    "         (toInt(get record 0))  \n",
    "         (toDouble (get record 1))\n",
    "         (toInt (get record 2)) \n",
    "         (toDouble (get record 3))\n",
    "     )\n",
    ")"
   ]
  },
  {
   "cell_type": "code",
   "execution_count": 19,
   "id": "rotary-detective",
   "metadata": {},
   "outputs": [
    {
     "data": {
      "text/plain": [
       "#'user/get-Movies-lazy"
      ]
     },
     "execution_count": 19,
     "metadata": {},
     "output_type": "execute_result"
    }
   ],
   "source": [
    "(defn get-Movies-lazy [datos] \n",
    "    (lazy-seq (cons (toMovie (s/split (first datos) #\",\"))(get-Movies-lazy (rest datos))) )\n",
    "    )"
   ]
  },
  {
   "cell_type": "code",
   "execution_count": 20,
   "id": "australian-understanding",
   "metadata": {},
   "outputs": [
    {
     "data": {
      "text/plain": [
       "#'user/get-Vector-Valor"
      ]
     },
     "execution_count": 20,
     "metadata": {},
     "output_type": "execute_result"
    }
   ],
   "source": [
    "(defn get-Vector-Valor [datos, valor]\n",
    "    (lazy-seq (cons (valor (first datos))(get-Vector-Valor (rest datos) valor)))\n",
    "    )"
   ]
  },
  {
   "cell_type": "code",
   "execution_count": 21,
   "id": "steady-garlic",
   "metadata": {},
   "outputs": [
    {
     "data": {
      "text/plain": [
       "#'user/movies"
      ]
     },
     "execution_count": 21,
     "metadata": {},
     "output_type": "execute_result"
    }
   ],
   "source": [
    "(def movies (take 20 (get-Movies-lazy data)))"
   ]
  },
  {
   "cell_type": "code",
   "execution_count": 22,
   "id": "nutritional-advertising",
   "metadata": {},
   "outputs": [
    {
     "data": {
      "text/plain": [
       "#'user/imdb"
      ]
     },
     "execution_count": 22,
     "metadata": {},
     "output_type": "execute_result"
    }
   ],
   "source": [
    "(def imdb (vec (take 20 (get-Vector-Valor movies :imdb))))"
   ]
  },
  {
   "cell_type": "code",
   "execution_count": 215,
   "id": "federal-benchmark",
   "metadata": {},
   "outputs": [
    {
     "data": {
      "text/plain": [
       "#'user/rottenTomato"
      ]
     },
     "execution_count": 215,
     "metadata": {},
     "output_type": "execute_result"
    }
   ],
   "source": [
    "(def rottenTomato (vec (take 20 (get-Vector-Valor movies :rottenTomato))))"
   ]
  },
  {
   "cell_type": "code",
   "execution_count": 10,
   "id": "induced-saturday",
   "metadata": {
    "scrolled": true
   },
   "outputs": [
    {
     "data": {
      "text/plain": [
       "#'user/runtime"
      ]
     },
     "execution_count": 10,
     "metadata": {},
     "output_type": "execute_result"
    }
   ],
   "source": [
    "(def runtime (vec (take 20 (get-Vector-Valor movies :runtime))))"
   ]
  },
  {
   "cell_type": "code",
   "execution_count": 24,
   "id": "embedded-friend",
   "metadata": {},
   "outputs": [
    {
     "data": {
      "text/plain": [
       "#'user/x0"
      ]
     },
     "execution_count": 24,
     "metadata": {},
     "output_type": "execute_result"
    }
   ],
   "source": [
    "(def x0 (vec (take 20 (get-Vector-Valor movies :x0))))"
   ]
  },
  {
   "cell_type": "code",
   "execution_count": 178,
   "id": "exact-authorization",
   "metadata": {},
   "outputs": [
    {
     "data": {
      "text/plain": [
       "#'user/matrix_transpuesta"
      ]
     },
     "execution_count": 178,
     "metadata": {},
     "output_type": "execute_result"
    }
   ],
   "source": [
    "(def  matrix_transpuesta [x0 imdb runtime])"
   ]
  },
  {
   "cell_type": "code",
   "execution_count": 179,
   "id": "according-lucas",
   "metadata": {},
   "outputs": [
    {
     "data": {
      "text/plain": [
       "[[1 1 1 1 1 1 1 1 1 1 1 1 1 1 1 1 1 1 1 1] [5.9 5.0 8.2 5.3 7.0 6.5 5.9 6.6 5.1 5.5 6.4 6.6 7.7 7.8 5.0 5.6 5.6 5.4 7.4 8.0] [61 90 83 60 68 132 166 56 105 152 60 90 135 75 102 89 50 130 87 91]]"
      ]
     },
     "execution_count": 179,
     "metadata": {},
     "output_type": "execute_result"
    }
   ],
   "source": [
    " matrix_transpuesta"
   ]
  },
  {
   "cell_type": "markdown",
   "id": "round-atlanta",
   "metadata": {},
   "source": [
    "## Transpuesta Xt"
   ]
  },
  {
   "cell_type": "code",
   "execution_count": 180,
   "id": "opposed-content",
   "metadata": {},
   "outputs": [
    {
     "data": {
      "text/plain": [
       "#'user/get-New-Col"
      ]
     },
     "execution_count": 180,
     "metadata": {},
     "output_type": "execute_result"
    }
   ],
   "source": [
    "(defn get-New-Col [matrix]\n",
    "    (def newCol [(first (get matrix 0))(first (get matrix 1)) (first (get matrix 2))])\n",
    "    newCol\n",
    "    )"
   ]
  },
  {
   "cell_type": "code",
   "execution_count": 181,
   "id": "thousand-gentleman",
   "metadata": {},
   "outputs": [
    {
     "data": {
      "text/plain": [
       "#'user/transpuesta"
      ]
     },
     "execution_count": 181,
     "metadata": {},
     "output_type": "execute_result"
    }
   ],
   "source": [
    "(defn transpuesta [matrix]\n",
    "    (loop [mResult (atom '()) mTemp matrix] \n",
    "         (if (= 0 (count (get mTemp 1)))\n",
    "             mResult\n",
    "             (do\n",
    "                 (def m (get-New-Col mTemp))\n",
    "                 (swap! mResult conj m)\n",
    "                 (recur mResult [(vec (rest (get mTemp 0)))(vec (rest (get mTemp 1))) (vec (rest (get mTemp 2)))])\n",
    "                 )\n",
    "             )\n",
    "        )\n",
    "    )"
   ]
  },
  {
   "cell_type": "code",
   "execution_count": 182,
   "id": "alert-tokyo",
   "metadata": {},
   "outputs": [
    {
     "data": {
      "text/plain": [
       "#'user/matrixA"
      ]
     },
     "execution_count": 182,
     "metadata": {},
     "output_type": "execute_result"
    }
   ],
   "source": [
    "(def matrixA (vec @(transpuesta matrixA)))"
   ]
  },
  {
   "cell_type": "markdown",
   "id": "hired-ordinary",
   "metadata": {},
   "source": [
    "## Multiplicador de matrices (Xt X)\n"
   ]
  },
  {
   "cell_type": "code",
   "execution_count": 216,
   "id": "occupied-transmission",
   "metadata": {},
   "outputs": [
    {
     "data": {
      "text/plain": [
       "[[1 1 1 1 1 1 1 1 1 1 1 1 1 1 1 1 1 1 1 1] [5.9 5.0 8.2 5.3 7.0 6.5 5.9 6.6 5.1 5.5 6.4 6.6 7.7 7.8 5.0 5.6 5.6 5.4 7.4 8.0] [61 90 83 60 68 132 166 56 105 152 60 90 135 75 102 89 50 130 87 91]]"
      ]
     },
     "execution_count": 216,
     "metadata": {},
     "output_type": "execute_result"
    }
   ],
   "source": [
    " matrix_transpuesta"
   ]
  },
  {
   "cell_type": "code",
   "execution_count": 217,
   "id": "grave-impact",
   "metadata": {
    "scrolled": true
   },
   "outputs": [
    {
     "data": {
      "text/plain": [
       "[[1 8.0 91] [1 7.4 87] [1 5.4 130] [1 5.6 50] [1 5.6 89] [1 5.0 102] [1 7.8 75] [1 7.7 135] [1 6.6 90] [1 6.4 60] [1 5.5 152] [1 5.1 105] [1 6.6 56] [1 5.9 166] [1 6.5 132] [1 7.0 68] [1 5.3 60] [1 8.2 83] [1 5.0 90] [1 5.9 61]]"
      ]
     },
     "execution_count": 217,
     "metadata": {},
     "output_type": "execute_result"
    }
   ],
   "source": [
    "matrixA"
   ]
  },
  {
   "cell_type": "code",
   "execution_count": 218,
   "id": "usual-inspiration",
   "metadata": {},
   "outputs": [
    {
     "data": {
      "text/plain": [
       "#'user/get-Mult-Val-Xt-X"
      ]
     },
     "execution_count": 218,
     "metadata": {},
     "output_type": "execute_result"
    }
   ],
   "source": [
    "(defn get-Mult-Val-Xt-X [matrixA matrixB x]\n",
    "     (loop [newValue 0 n 0]\n",
    "       (if (= n (count matrixA))\n",
    "            newValue\n",
    "            (do\n",
    "                (recur (+ (* (get matrixA n)(get (get matrixB n) x)) newValue) (inc n))    \n",
    "            )\n",
    "        )\n",
    "    )\n",
    ")"
   ]
  },
  {
   "cell_type": "code",
   "execution_count": 219,
   "id": "improving-stopping",
   "metadata": {},
   "outputs": [
    {
     "data": {
      "text/plain": [
       "#'user/multiplicacion_x_xt"
      ]
     },
     "execution_count": 219,
     "metadata": {},
     "output_type": "execute_result"
    }
   ],
   "source": [
    "(defn multiplicacion_x_xt [matrixA matrixTranspuesta]\n",
    "    (loop [mResult (atom '())  n 0]\n",
    "         (if (= n (count matrixTranspuesta))\n",
    "             mResult\n",
    "             (do\n",
    "                 (def vectorTemp [(get-Mult-Val-Xt-X (get matrixTranspuesta n) matrixA 0) (get-Mult-Val-Xt-X (get matrixTranspuesta n) matrixA 1) (get-Mult-Val-Xt-X (get matrixTranspuesta n) matrixA 2)])                 \n",
    "                 (swap! mResult conj vectorTemp)\n",
    "                 (recur mResult (inc n))\n",
    "                 \n",
    "             )\n",
    "        )\n",
    "    )\n",
    ")"
   ]
  },
  {
   "cell_type": "code",
   "execution_count": 220,
   "id": "fleet-mortgage",
   "metadata": {},
   "outputs": [
    {
     "data": {
      "text/plain": [
       "#'user/matrix_multiplicacion_xt_x"
      ]
     },
     "execution_count": 220,
     "metadata": {},
     "output_type": "execute_result"
    }
   ],
   "source": [
    "(def matrix_multiplicacion_xt_x (vec (reverse @(multiplicacion_x_xt matrixA matrix_transpuesta))))"
   ]
  },
  {
   "cell_type": "code",
   "execution_count": 221,
   "id": "preliminary-sword",
   "metadata": {},
   "outputs": [
    {
     "data": {
      "text/plain": [
       "[[20 126.5 1882] [126.5 791.12 12082.199999999999] [1882 12082.199999999999 170534]]"
      ]
     },
     "execution_count": 221,
     "metadata": {},
     "output_type": "execute_result"
    }
   ],
   "source": [
    "matrix_multiplicacion_xt_x"
   ]
  },
  {
   "cell_type": "markdown",
   "id": "sensitive-priority",
   "metadata": {},
   "source": [
    "## Inversa (Xt X)^-1"
   ]
  },
  {
   "cell_type": "code",
   "execution_count": null,
   "id": "driven-auckland",
   "metadata": {},
   "outputs": [],
   "source": []
  },
  {
   "cell_type": "markdown",
   "id": "rubber-administrator",
   "metadata": {},
   "source": [
    "## Multiplicacion Xt Y"
   ]
  },
  {
   "cell_type": "code",
   "execution_count": 222,
   "id": "rapid-array",
   "metadata": {},
   "outputs": [
    {
     "data": {
      "text/plain": [
       "#'user/get-Mult-Val-Xt-Y"
      ]
     },
     "execution_count": 222,
     "metadata": {},
     "output_type": "execute_result"
    }
   ],
   "source": [
    "(defn get-Mult-Val-Xt-Y [matrixA matrixB]\n",
    "     (loop [newValue 0 n 0]\n",
    "       (if (= n (count matrixA))\n",
    "            newValue\n",
    "            (do\n",
    "                (recur (+ (* (get matrixA n)(get matrixB n)) newValue) (inc n))    \n",
    "            )\n",
    "        )\n",
    "    )\n",
    ")"
   ]
  },
  {
   "cell_type": "code",
   "execution_count": 223,
   "id": "mounted-employee",
   "metadata": {},
   "outputs": [
    {
     "data": {
      "text/plain": [
       "#'user/matrix_multiplicacion_xt_y"
      ]
     },
     "execution_count": 223,
     "metadata": {},
     "output_type": "execute_result"
    }
   ],
   "source": [
    "(defn matrix_multiplicacion_xt_y [matrixA matrixTranspuesta]\n",
    "    (println matrixA)\n",
    "    (def vectorTemp [(get-Mult-Val-Xt-Y (get matrixTranspuesta 0) matrixA)(get-Mult-Val-Xt-Y (get matrixTranspuesta 1) matrixA)(get-Mult-Val-Xt-Y (get matrixTranspuesta 2) matrixA)])                               \n",
    "    (println vectorTemp)\n",
    "    )"
   ]
  },
  {
   "cell_type": "code",
   "execution_count": 225,
   "id": "black-amendment",
   "metadata": {},
   "outputs": [
    {
     "name": "stdout",
     "output_type": "stream",
     "text": [
      "[0.77 0.14 1.0 1.0 0.97 0.92 0.88 0.73 0.91 0.57 0.36 0.17 0.8 0.82 0.5 0.11 0.49 0.73 0.83 1.0]\n",
      "[13.700000000000001 89.225 1308.92]\n"
     ]
    },
    {
     "name": "stderr",
     "output_type": "stream",
     "text": [
      "Execution error (NullPointerException) at nrepl.middleware.interruptible-eval/evaluate (interruptible_eval.clj:79).\r\n",
      "null\r\n"
     ]
    },
    {
     "ename": "class clojure.lang.Compiler$CompilerException",
     "evalue": "",
     "output_type": "error",
     "traceback": [
      "   core.clj:  2300 clojure.core$deref_future/invokeStatic",
      "   core.clj:  2320 clojure.core$deref/invokeStatic",
      "   core.clj:  2306 clojure.core$deref/invoke",
      "   AFn.java:   154 clojure.lang.AFn/applyToHelper",
      "   AFn.java:   144 clojure.lang.AFn/applyTo",
      "   core.clj:  3214 clojure.core$eval/invokeStatic",
      "   core.clj:  3210 clojure.core$eval/invoke",
      "   main.clj:   437 clojure.main$repl$read_eval_print__9086$fn__9089/invoke",
      "   main.clj:   458 clojure.main$repl$fn__9095/invoke",
      "   main.clj:   368 clojure.main$repl/doInvoke",
      "RestFn.java:  1523 clojure.lang.RestFn/invoke",
      "   AFn.java:    22 clojure.lang.AFn/run",
      "   AFn.java:    22 clojure.lang.AFn/run",
      "Thread.java:   745 java.lang.Thread/run"
     ]
    }
   ],
   "source": [
    "(def matrix_multiplicacion_xt_y (vec (reverse @(matrix_multiplicacion_xt_y rottenTomato matrix_transpuesta))))"
   ]
  },
  {
   "cell_type": "code",
   "execution_count": null,
   "id": "egyptian-cassette",
   "metadata": {},
   "outputs": [],
   "source": []
  }
 ],
 "metadata": {
  "kernelspec": {
   "display_name": "Clojure (clojupyter=0.3.2=1)",
   "language": "clojure",
   "name": "conda-clojupyter"
  },
  "language_info": {
   "file_extension": ".clj",
   "mimetype": "text/x-clojure",
   "name": "clojure",
   "version": "1.10.1"
  }
 },
 "nbformat": 4,
 "nbformat_minor": 5
}
