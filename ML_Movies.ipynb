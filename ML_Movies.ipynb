{
 "cells": [
  {
   "cell_type": "markdown",
   "id": "compatible-horror",
   "metadata": {},
   "source": [
    "#### Librerias Necesarias"
   ]
  },
  {
   "cell_type": "code",
   "execution_count": 1,
   "id": "primary-pharmaceutical",
   "metadata": {},
   "outputs": [
    {
     "data": {
      "text/plain": [
       "#'user/toDouble"
      ]
     },
     "execution_count": 1,
     "metadata": {},
     "output_type": "execute_result"
    }
   ],
   "source": [
    "(require '[clojure.string :as s])\n",
    "(defn toInt[x] (Integer/parseInt x));Java\n",
    "(defn toDouble[x] (Double/parseDouble x));Java"
   ]
  },
  {
   "cell_type": "markdown",
   "id": "educational-guard",
   "metadata": {},
   "source": [
    "Clase de Pelicula"
   ]
  },
  {
   "cell_type": "code",
   "execution_count": 2,
   "id": "european-shore",
   "metadata": {},
   "outputs": [
    {
     "data": {
      "text/plain": [
       "user.Movie"
      ]
     },
     "execution_count": 2,
     "metadata": {},
     "output_type": "execute_result"
    }
   ],
   "source": [
    "(defrecord Movie [id title year age imdb rottenTomato netflix hulu primeVideo disneyPlus  director geners country lenguage runtime]\n",
    "    Object \n",
    "    (toString [this]\n",
    "              (format \"%s,%s,%s,%s,%s,%s,%s,%s,%s,%s,%s,%s,%s,%s,%s\" id title year age imdb rottenTomato netflix hulu primeVideo disneyPlus director geners country lenguage runtime)\n",
    "              )\n",
    "    )"
   ]
  },
  {
   "cell_type": "markdown",
   "id": "early-coaching",
   "metadata": {},
   "source": [
    "Lectura de informacion"
   ]
  },
  {
   "cell_type": "code",
   "execution_count": 3,
   "id": "wanted-family",
   "metadata": {},
   "outputs": [
    {
     "data": {
      "text/plain": [
       "#'user/data"
      ]
     },
     "execution_count": 3,
     "metadata": {},
     "output_type": "execute_result"
    }
   ],
   "source": [
    "(def data (vec (rest (s/split-lines (slurp \"MoviesOnStreamingPlatforms_updated.csv\") ) ) ) )"
   ]
  },
  {
   "cell_type": "markdown",
   "id": "classified-progress",
   "metadata": {},
   "source": [
    "Conversion de datos"
   ]
  },
  {
   "cell_type": "code",
   "execution_count": 4,
   "id": "offshore-huntington",
   "metadata": {},
   "outputs": [
    {
     "data": {
      "text/plain": [
       "#'user/toMovie"
      ]
     },
     "execution_count": 4,
     "metadata": {},
     "output_type": "execute_result"
    }
   ],
   "source": [
    "(defn toMovie[ record ]\n",
    "    (Movie. \n",
    "     (toInt(get record 0))  \n",
    "     (get record 1)  \n",
    "     (toInt (get record 2)) \n",
    "     (get record 3) (toDouble (get record 4)) (toDouble (get record 5)) \n",
    "                                (toInt (get record 6)) \n",
    "                                (toInt (get record 7))\n",
    "                                (toInt (get record 8))\n",
    "                                (toInt (get record 9))\n",
    "                                (get record 10)\n",
    "                                (get record 11)\n",
    "                                (get record 12)\n",
    "                                (get record 13)\n",
    "                                (toInt (get record 14)) \n",
    "                               ))"
   ]
  },
  {
   "cell_type": "code",
   "execution_count": 5,
   "id": "rotary-detective",
   "metadata": {},
   "outputs": [
    {
     "data": {
      "text/plain": [
       "#'user/get-Movies-lazy"
      ]
     },
     "execution_count": 5,
     "metadata": {},
     "output_type": "execute_result"
    }
   ],
   "source": [
    "(defn get-Movies-lazy [datos] \n",
    "    (lazy-seq (cons (toMovie (s/split (first datos) #\",\"))(get-Movies-lazy (rest datos))) )\n",
    "    )"
   ]
  },
  {
   "cell_type": "code",
   "execution_count": 6,
   "id": "australian-understanding",
   "metadata": {},
   "outputs": [
    {
     "data": {
      "text/plain": [
       "#'user/get-Vector-Valor"
      ]
     },
     "execution_count": 6,
     "metadata": {},
     "output_type": "execute_result"
    }
   ],
   "source": [
    "(defn get-Vector-Valor [datos, valor]\n",
    "    (lazy-seq (cons (valor (first datos))(get-Vector-Valor (rest datos) valor)))\n",
    "    )"
   ]
  },
  {
   "cell_type": "code",
   "execution_count": 7,
   "id": "steady-garlic",
   "metadata": {},
   "outputs": [
    {
     "data": {
      "text/plain": [
       "#'user/movies"
      ]
     },
     "execution_count": 7,
     "metadata": {},
     "output_type": "execute_result"
    }
   ],
   "source": [
    "(def movies (take 20 (get-Movies-lazy data)))"
   ]
  },
  {
   "cell_type": "code",
   "execution_count": 8,
   "id": "nutritional-advertising",
   "metadata": {},
   "outputs": [
    {
     "data": {
      "text/plain": [
       "#'user/imdb"
      ]
     },
     "execution_count": 8,
     "metadata": {},
     "output_type": "execute_result"
    }
   ],
   "source": [
    "(def imdb (vec (take 20 (get-Vector-Valor movies :imdb))))"
   ]
  },
  {
   "cell_type": "code",
   "execution_count": 9,
   "id": "federal-benchmark",
   "metadata": {},
   "outputs": [
    {
     "data": {
      "text/plain": [
       "#'user/rottonTomato"
      ]
     },
     "execution_count": 9,
     "metadata": {},
     "output_type": "execute_result"
    }
   ],
   "source": [
    "(def rottonTomato (vec (take 20 (get-Vector-Valor movies :rottonTomato))))"
   ]
  },
  {
   "cell_type": "code",
   "execution_count": 10,
   "id": "induced-saturday",
   "metadata": {
    "scrolled": true
   },
   "outputs": [
    {
     "data": {
      "text/plain": [
       "#'user/runtime"
      ]
     },
     "execution_count": 10,
     "metadata": {},
     "output_type": "execute_result"
    }
   ],
   "source": [
    "(def runtime (vec (take 20 (get-Vector-Valor movies :runtime))))"
   ]
  },
  {
   "cell_type": "code",
   "execution_count": 11,
   "id": "embedded-friend",
   "metadata": {},
   "outputs": [
    {
     "data": {
      "text/plain": [
       "#'user/x0"
      ]
     },
     "execution_count": 11,
     "metadata": {},
     "output_type": "execute_result"
    }
   ],
   "source": [
    "(def x0 (vec (take 20 (repeat 1))))"
   ]
  },
  {
   "cell_type": "code",
   "execution_count": 21,
   "id": "exact-authorization",
   "metadata": {},
   "outputs": [
    {
     "data": {
      "text/plain": [
       "#'user/matrixA"
      ]
     },
     "execution_count": 21,
     "metadata": {},
     "output_type": "execute_result"
    }
   ],
   "source": [
    "(def matrixA [x0 imdb runtime])"
   ]
  },
  {
   "cell_type": "markdown",
   "id": "round-atlanta",
   "metadata": {},
   "source": [
    "Transpuesta"
   ]
  },
  {
   "cell_type": "code",
   "execution_count": 22,
   "id": "opposed-content",
   "metadata": {},
   "outputs": [
    {
     "data": {
      "text/plain": [
       "#'user/get-New-Col"
      ]
     },
     "execution_count": 22,
     "metadata": {},
     "output_type": "execute_result"
    }
   ],
   "source": [
    "(defn get-New-Col [matrix]\n",
    "    (def newCol [(first (get matrix 0))(first (get matrix 1)) (first (get matrix 2))])\n",
    "    newCol\n",
    "    )"
   ]
  },
  {
   "cell_type": "code",
   "execution_count": 23,
   "id": "thousand-gentleman",
   "metadata": {},
   "outputs": [
    {
     "data": {
      "text/plain": [
       "#'user/transpuesta"
      ]
     },
     "execution_count": 23,
     "metadata": {},
     "output_type": "execute_result"
    }
   ],
   "source": [
    "(defn transpuesta [matrix]\n",
    "    (loop [mResult (atom '()) mTemp matrix] \n",
    "         (if (= 0 (count (get mTemp 1)))\n",
    "             mResult\n",
    "             (do\n",
    "                 (def m (get-New-Col mTemp))\n",
    "                 (swap! mResult conj m)\n",
    "                 (recur mResult [(vec (rest (get mTemp 0)))(vec (rest (get mTemp 1))) (vec (rest (get mTemp 2)))])\n",
    "                 )\n",
    "             )\n",
    "        )\n",
    "    )"
   ]
  },
  {
   "cell_type": "code",
   "execution_count": 24,
   "id": "alert-tokyo",
   "metadata": {},
   "outputs": [
    {
     "data": {
      "text/plain": [
       "#'user/matrixB"
      ]
     },
     "execution_count": 24,
     "metadata": {},
     "output_type": "execute_result"
    }
   ],
   "source": [
    "(def matrixB (vec @(transpuesta matrixA)))"
   ]
  },
  {
   "cell_type": "markdown",
   "id": "hired-ordinary",
   "metadata": {},
   "source": [
    "Multiplicador de matrices\n"
   ]
  },
  {
   "cell_type": "code",
   "execution_count": 25,
   "id": "occupied-transmission",
   "metadata": {},
   "outputs": [
    {
     "data": {
      "text/plain": [
       "[[1 1 1 1 1 1 1 1 1 1 1 1 1 1 1 1 1 1 1 1] [9.3 9.3 9.3 9.3 9.3 9.3 9.1 9.1 9.1 9.0 9.0 9.0 8.9 8.9 8.9 8.9 8.9 8.9 8.9 8.9] [61 90 83 60 68 132 166 56 105 152 60 90 135 75 102 89 50 130 87 91]]"
      ]
     },
     "execution_count": 25,
     "metadata": {},
     "output_type": "execute_result"
    }
   ],
   "source": [
    "matrixA"
   ]
  },
  {
   "cell_type": "code",
   "execution_count": 26,
   "id": "grave-impact",
   "metadata": {},
   "outputs": [
    {
     "data": {
      "text/plain": [
       "[[1 8.9 91] [1 8.9 87] [1 8.9 130] [1 8.9 50] [1 8.9 89] [1 8.9 102] [1 8.9 75] [1 8.9 135] [1 9.0 90] [1 9.0 60] [1 9.0 152] [1 9.1 105] [1 9.1 56] [1 9.1 166] [1 9.3 132] [1 9.3 68] [1 9.3 60] [1 9.3 83] [1 9.3 90] [1 9.3 61]]"
      ]
     },
     "execution_count": 26,
     "metadata": {},
     "output_type": "execute_result"
    }
   ],
   "source": [
    " matrixB"
   ]
  },
  {
   "cell_type": "code",
   "execution_count": 27,
   "id": "olympic-bulgarian",
   "metadata": {},
   "outputs": [
    {
     "data": {
      "text/plain": [
       "#'user/get-Mult-Val"
      ]
     },
     "execution_count": 27,
     "metadata": {},
     "output_type": "execute_result"
    }
   ],
   "source": [
    "(defn get-Mult-Val [matrixA matrixB]\n",
    "   \n",
    "    (def newVal \n",
    "        (+ \n",
    "         (* (get matrixA 0)(get matrixB 0))\n",
    "         (* (get matrixA 1)(get matrixB 1))\n",
    "         (* (get matrixA 2)(get matrixB 2))\n",
    "         ))\n",
    "  \n",
    "    newVal\n",
    ")"
   ]
  },
  {
   "cell_type": "code",
   "execution_count": 28,
   "id": "improving-stopping",
   "metadata": {},
   "outputs": [
    {
     "data": {
      "text/plain": [
       "#'user/multiplicacion"
      ]
     },
     "execution_count": 28,
     "metadata": {},
     "output_type": "execute_result"
    }
   ],
   "source": [
    "(defn multiplicacion [matrixA matrixB]\n",
    "    (loop [mResult (atom '())  n 0]\n",
    "         (if (= n (count matrixA))\n",
    "             mResult\n",
    "             (do\n",
    "                 (def vectorTemp [(get-Mult-Val (get matrixB 0) (get matrixA n)) (get-Mult-Val (get matrixB 1) (get matrixA n)) (get-Mult-Val (get matrixB 2) (get matrixA n))])\n",
    "                 (println vectorTemp)\n",
    "                 (swap! mResult conj vectorTemp)\n",
    "                 (recur mResult (inc n))\n",
    "                 \n",
    "             )\n",
    "        )\n",
    "    )\n",
    ")"
   ]
  },
  {
   "cell_type": "code",
   "execution_count": 29,
   "id": "fleet-mortgage",
   "metadata": {},
   "outputs": [
    {
     "name": "stdout",
     "output_type": "stream",
     "text": [
      "[100.9 96.9 139.9]\n",
      "[938.3700000000001 901.1700000000001 1301.07]\n",
      "[8415.0 8083.0 11652.0]\n"
     ]
    },
    {
     "data": {
      "text/plain": [
       "([100.9 96.9 139.9] [938.3700000000001 901.1700000000001 1301.07] [8415.0 8083.0 11652.0])"
      ]
     },
     "execution_count": 29,
     "metadata": {},
     "output_type": "execute_result"
    }
   ],
   "source": [
    "(reverse @(multiplicacion matrixA matrixB))"
   ]
  }
 ],
 "metadata": {
  "kernelspec": {
   "display_name": "Clojure (clojupyter=0.3.2=1)",
   "language": "clojure",
   "name": "conda-clojupyter"
  },
  "language_info": {
   "file_extension": ".clj",
   "mimetype": "text/x-clojure",
   "name": "clojure",
   "version": "1.10.1"
  }
 },
 "nbformat": 4,
 "nbformat_minor": 5
}
