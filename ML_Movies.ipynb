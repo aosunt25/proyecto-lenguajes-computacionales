{
 "cells": [
  {
   "cell_type": "markdown",
   "id": "unexpected-recognition",
   "metadata": {},
   "source": [
    "# Proyecto Final\n"
   ]
  },
  {
   "cell_type": "markdown",
   "id": "political-investment",
   "metadata": {},
   "source": [
    "- Alfredo Osuna\n",
    "- Raul Gonzalez"
   ]
  },
  {
   "cell_type": "markdown",
   "id": "compatible-horror",
   "metadata": {},
   "source": [
    "#### Librerias Necesarias"
   ]
  },
  {
   "cell_type": "code",
   "execution_count": 1,
   "id": "primary-pharmaceutical",
   "metadata": {},
   "outputs": [
    {
     "data": {
      "text/plain": [
       "#'user/toDouble"
      ]
     },
     "execution_count": 1,
     "metadata": {},
     "output_type": "execute_result"
    }
   ],
   "source": [
    "(require '[clojure.string :as s])\n",
    "(defn toInt[x] (Integer/parseInt x));Java\n",
    "(defn toDouble[x] (Double/parseDouble x));Java"
   ]
  },
  {
   "cell_type": "markdown",
   "id": "educational-guard",
   "metadata": {},
   "source": [
    "Clase de Pelicula"
   ]
  },
  {
   "cell_type": "code",
   "execution_count": 2,
   "id": "european-shore",
   "metadata": {},
   "outputs": [
    {
     "data": {
      "text/plain": [
       "user.Movie"
      ]
     },
     "execution_count": 2,
     "metadata": {},
     "output_type": "execute_result"
    }
   ],
   "source": [
    "(defrecord Movie [x0 imdb runtime rottenTomato]\n",
    "    Object \n",
    "    (toString [this]\n",
    "              (format \"%s,%s,%s,%s\" x0 imdb runtime rottenTomato)\n",
    "              )\n",
    "    )"
   ]
  },
  {
   "cell_type": "markdown",
   "id": "early-coaching",
   "metadata": {},
   "source": [
    "Lectura de informacion"
   ]
  },
  {
   "cell_type": "code",
   "execution_count": 3,
   "id": "wanted-family",
   "metadata": {},
   "outputs": [
    {
     "data": {
      "text/plain": [
       "#'user/data"
      ]
     },
     "execution_count": 3,
     "metadata": {},
     "output_type": "execute_result"
    }
   ],
   "source": [
    "(def data (vec (rest (s/split-lines (slurp \"Clean-Data.csv\") ) ) ) )"
   ]
  },
  {
   "cell_type": "markdown",
   "id": "classified-progress",
   "metadata": {},
   "source": [
    "Conversion de datos"
   ]
  },
  {
   "cell_type": "code",
   "execution_count": 4,
   "id": "offshore-huntington",
   "metadata": {},
   "outputs": [
    {
     "data": {
      "text/plain": [
       "#'user/toMovie"
      ]
     },
     "execution_count": 4,
     "metadata": {},
     "output_type": "execute_result"
    }
   ],
   "source": [
    "(defn toMovie[ record ]\n",
    "    (Movie. \n",
    "         (toInt(get record 0))  \n",
    "         (toDouble (get record 1))\n",
    "         (toInt (get record 2)) \n",
    "         (toDouble (get record 3))\n",
    "     )\n",
    ")"
   ]
  },
  {
   "cell_type": "code",
   "execution_count": 5,
   "id": "rotary-detective",
   "metadata": {},
   "outputs": [
    {
     "data": {
      "text/plain": [
       "#'user/get-Movies-lazy"
      ]
     },
     "execution_count": 5,
     "metadata": {},
     "output_type": "execute_result"
    }
   ],
   "source": [
    "(defn get-Movies-lazy [datos] \n",
    "    (lazy-seq (cons (toMovie (s/split (first datos) #\",\"))(get-Movies-lazy (rest datos))) )\n",
    "    )"
   ]
  },
  {
   "cell_type": "code",
   "execution_count": 6,
   "id": "australian-understanding",
   "metadata": {},
   "outputs": [
    {
     "data": {
      "text/plain": [
       "#'user/get-Vector-Valor"
      ]
     },
     "execution_count": 6,
     "metadata": {},
     "output_type": "execute_result"
    }
   ],
   "source": [
    "(defn get-Vector-Valor [datos, valor]\n",
    "    (lazy-seq (cons (valor (first datos))(get-Vector-Valor (rest datos) valor)))\n",
    "    )"
   ]
  },
  {
   "cell_type": "code",
   "execution_count": 7,
   "id": "steady-garlic",
   "metadata": {},
   "outputs": [
    {
     "data": {
      "text/plain": [
       "#'user/movies"
      ]
     },
     "execution_count": 7,
     "metadata": {},
     "output_type": "execute_result"
    }
   ],
   "source": [
    "(def movies (take 20 (get-Movies-lazy data)))"
   ]
  },
  {
   "cell_type": "code",
   "execution_count": 8,
   "id": "nutritional-advertising",
   "metadata": {},
   "outputs": [
    {
     "data": {
      "text/plain": [
       "#'user/imdb"
      ]
     },
     "execution_count": 8,
     "metadata": {},
     "output_type": "execute_result"
    }
   ],
   "source": [
    "(def imdb (vec (take 20 (get-Vector-Valor movies :imdb))))"
   ]
  },
  {
   "cell_type": "code",
   "execution_count": 9,
   "id": "federal-benchmark",
   "metadata": {},
   "outputs": [
    {
     "data": {
      "text/plain": [
       "#'user/rottenTomato"
      ]
     },
     "execution_count": 9,
     "metadata": {},
     "output_type": "execute_result"
    }
   ],
   "source": [
    "(def rottenTomato (vec (take 20 (get-Vector-Valor movies :rottenTomato))))"
   ]
  },
  {
   "cell_type": "code",
   "execution_count": 10,
   "id": "induced-saturday",
   "metadata": {
    "scrolled": true
   },
   "outputs": [
    {
     "data": {
      "text/plain": [
       "#'user/runtime"
      ]
     },
     "execution_count": 10,
     "metadata": {},
     "output_type": "execute_result"
    }
   ],
   "source": [
    "(def runtime (vec (take 20 (get-Vector-Valor movies :runtime))))"
   ]
  },
  {
   "cell_type": "code",
   "execution_count": 11,
   "id": "embedded-friend",
   "metadata": {},
   "outputs": [
    {
     "data": {
      "text/plain": [
       "#'user/x0"
      ]
     },
     "execution_count": 11,
     "metadata": {},
     "output_type": "execute_result"
    }
   ],
   "source": [
    "(def x0 (vec (take 20 (get-Vector-Valor movies :x0))))"
   ]
  },
  {
   "cell_type": "code",
   "execution_count": 12,
   "id": "exact-authorization",
   "metadata": {},
   "outputs": [
    {
     "data": {
      "text/plain": [
       "#'user/matrix_transpuesta"
      ]
     },
     "execution_count": 12,
     "metadata": {},
     "output_type": "execute_result"
    }
   ],
   "source": [
    "(def  matrix_transpuesta [x0 imdb runtime])"
   ]
  },
  {
   "cell_type": "code",
   "execution_count": 13,
   "id": "sacred-parker",
   "metadata": {},
   "outputs": [
    {
     "data": {
      "text/plain": [
       "[[1 1 1 1 1 1 1 1 1 1 1 1 1 1 1 1 1 1 1 1] [5.9 5.0 8.2 5.3 7.0 6.5 5.9 6.6 5.1 5.5 6.4 6.6 7.7 7.8 5.0 5.6 5.6 5.4 7.4 8.0] [7 11 13 15 15 17 21 21 22 22 22 22 22 23 24 24 24 25 26 26]]"
      ]
     },
     "execution_count": 13,
     "metadata": {},
     "output_type": "execute_result"
    }
   ],
   "source": [
    " matrix_transpuesta"
   ]
  },
  {
   "cell_type": "markdown",
   "id": "round-atlanta",
   "metadata": {},
   "source": [
    "## Transpuesta Xt"
   ]
  },
  {
   "cell_type": "code",
   "execution_count": 14,
   "id": "opposed-content",
   "metadata": {},
   "outputs": [
    {
     "data": {
      "text/plain": [
       "#'user/get-New-Col"
      ]
     },
     "execution_count": 14,
     "metadata": {},
     "output_type": "execute_result"
    }
   ],
   "source": [
    "(defn get-New-Col [matrix]\n",
    "    (def newCol [(first (get matrix 0))(first (get matrix 1)) (first (get matrix 2))])\n",
    "    newCol\n",
    "    )"
   ]
  },
  {
   "cell_type": "code",
   "execution_count": 15,
   "id": "thousand-gentleman",
   "metadata": {},
   "outputs": [
    {
     "data": {
      "text/plain": [
       "#'user/transpuesta"
      ]
     },
     "execution_count": 15,
     "metadata": {},
     "output_type": "execute_result"
    }
   ],
   "source": [
    "(defn transpuesta [matrix]\n",
    "    (loop [mResult (atom '()) mTemp matrix] \n",
    "         (if (= 0 (count (get mTemp 1)))\n",
    "             mResult\n",
    "             (do\n",
    "                 (def m (get-New-Col mTemp))\n",
    "                 (swap! mResult conj m)\n",
    "                 (recur mResult [(vec (rest (get mTemp 0)))(vec (rest (get mTemp 1))) (vec (rest (get mTemp 2)))])\n",
    "                 )\n",
    "             )\n",
    "        )\n",
    "    )"
   ]
  },
  {
   "cell_type": "code",
   "execution_count": 16,
   "id": "alert-tokyo",
   "metadata": {},
   "outputs": [
    {
     "data": {
      "text/plain": [
       "#'user/matrixA"
      ]
     },
     "execution_count": 16,
     "metadata": {},
     "output_type": "execute_result"
    }
   ],
   "source": [
    "(def matrixA (vec @(transpuesta matrix_transpuesta)))"
   ]
  },
  {
   "cell_type": "markdown",
   "id": "hired-ordinary",
   "metadata": {},
   "source": [
    "## Multiplicador de matrices (Xt X)\n"
   ]
  },
  {
   "cell_type": "code",
   "execution_count": 17,
   "id": "occupied-transmission",
   "metadata": {},
   "outputs": [
    {
     "data": {
      "text/plain": [
       "[[1 1 1 1 1 1 1 1 1 1 1 1 1 1 1 1 1 1 1 1] [5.9 5.0 8.2 5.3 7.0 6.5 5.9 6.6 5.1 5.5 6.4 6.6 7.7 7.8 5.0 5.6 5.6 5.4 7.4 8.0] [7 11 13 15 15 17 21 21 22 22 22 22 22 23 24 24 24 25 26 26]]"
      ]
     },
     "execution_count": 17,
     "metadata": {},
     "output_type": "execute_result"
    }
   ],
   "source": [
    " matrix_transpuesta"
   ]
  },
  {
   "cell_type": "code",
   "execution_count": 18,
   "id": "grave-impact",
   "metadata": {
    "scrolled": true
   },
   "outputs": [
    {
     "data": {
      "text/plain": [
       "[[1 8.0 26] [1 7.4 26] [1 5.4 25] [1 5.6 24] [1 5.6 24] [1 5.0 24] [1 7.8 23] [1 7.7 22] [1 6.6 22] [1 6.4 22] [1 5.5 22] [1 5.1 22] [1 6.6 21] [1 5.9 21] [1 6.5 17] [1 7.0 15] [1 5.3 15] [1 8.2 13] [1 5.0 11] [1 5.9 7]]"
      ]
     },
     "execution_count": 18,
     "metadata": {},
     "output_type": "execute_result"
    }
   ],
   "source": [
    "matrixA"
   ]
  },
  {
   "cell_type": "code",
   "execution_count": 19,
   "id": "cheap-snapshot",
   "metadata": {},
   "outputs": [
    {
     "data": {
      "text/plain": [
       "#'user/get-Mult-Val-Xt-X"
      ]
     },
     "execution_count": 19,
     "metadata": {},
     "output_type": "execute_result"
    }
   ],
   "source": [
    "(defn get-Mult-Val-Xt-X [matrixA matrixB x]\n",
    "     (loop [newValue 0 n 0]\n",
    "       (if (= n (count matrixA))\n",
    "            newValue\n",
    "            (do\n",
    "                (recur (+ (* (get matrixA n)(get (get matrixB n) x)) newValue) (inc n))    \n",
    "            )\n",
    "        )\n",
    "    )\n",
    ")"
   ]
  },
  {
   "cell_type": "code",
   "execution_count": 20,
   "id": "improving-stopping",
   "metadata": {},
   "outputs": [
    {
     "data": {
      "text/plain": [
       "#'user/multiplicacion_x_xt"
      ]
     },
     "execution_count": 20,
     "metadata": {},
     "output_type": "execute_result"
    }
   ],
   "source": [
    "(defn multiplicacion_x_xt [matrixA matrixTranspuesta]\n",
    "    (loop [mResult (atom '())  n 0]\n",
    "         (if (= n (count matrixTranspuesta))\n",
    "             mResult\n",
    "             (do\n",
    "                 (def vectorTemp [(get-Mult-Val-Xt-X (get matrixTranspuesta n) matrixA 0) (get-Mult-Val-Xt-X (get matrixTranspuesta n) matrixA 1) (get-Mult-Val-Xt-X (get matrixTranspuesta n) matrixA 2)])                 \n",
    "                 (swap! mResult conj vectorTemp)\n",
    "                 (recur mResult (inc n))\n",
    "                 \n",
    "             )\n",
    "        )\n",
    "    )\n",
    ")"
   ]
  },
  {
   "cell_type": "code",
   "execution_count": 21,
   "id": "fleet-mortgage",
   "metadata": {},
   "outputs": [
    {
     "data": {
      "text/plain": [
       "#'user/matrix_multiplicacion_xt_x"
      ]
     },
     "execution_count": 21,
     "metadata": {},
     "output_type": "execute_result"
    }
   ],
   "source": [
    "(def matrix_multiplicacion_xt_x (vec (reverse @(multiplicacion_x_xt matrixA matrix_transpuesta))))"
   ]
  },
  {
   "cell_type": "code",
   "execution_count": 22,
   "id": "dynamic-brass",
   "metadata": {},
   "outputs": [
    {
     "data": {
      "text/plain": [
       "[[20 126.5 402] [126.5 791.12 2525.8] [402 2525.8 7668]]"
      ]
     },
     "execution_count": 22,
     "metadata": {},
     "output_type": "execute_result"
    }
   ],
   "source": [
    "matrix_multiplicacion_xt_x"
   ]
  },
  {
   "cell_type": "markdown",
   "id": "sensitive-priority",
   "metadata": {},
   "source": [
    "## Inversa (Xt X)^-1"
   ]
  },
  {
   "cell_type": "code",
   "execution_count": 23,
   "id": "driven-auckland",
   "metadata": {},
   "outputs": [
    {
     "data": {
      "text/plain": [
       "#'user/inversa"
      ]
     },
     "execution_count": 23,
     "metadata": {},
     "output_type": "execute_result"
    }
   ],
   "source": [
    "(defn inversa [matrixA]\n",
    "    ()\n",
    ")"
   ]
  },
  {
   "cell_type": "code",
   "execution_count": 35,
   "id": "interim-barrel",
   "metadata": {},
   "outputs": [
    {
     "data": {
      "text/plain": [
       "#'user/matrix_inversa"
      ]
     },
     "execution_count": 35,
     "metadata": {},
     "output_type": "execute_result"
    }
   ],
   "source": [
    "(def matrix_inversa  [[2.491915416 -0.28318713 -0.032375961] [-0.28318713 0.047591778 -0.000887108] [-0.032375961 -0.000887108 0.001889896]])"
   ]
  },
  {
   "cell_type": "markdown",
   "id": "mediterranean-notebook",
   "metadata": {},
   "source": [
    "## Multiplicacion Xt Y"
   ]
  },
  {
   "cell_type": "code",
   "execution_count": 25,
   "id": "chinese-membership",
   "metadata": {},
   "outputs": [
    {
     "data": {
      "text/plain": [
       "#'user/get-Mult-Val-Xt-Y"
      ]
     },
     "execution_count": 25,
     "metadata": {},
     "output_type": "execute_result"
    }
   ],
   "source": [
    "(defn get-Mult-Val-Xt-Y [matrixA matrixB]\n",
    "     (loop [newValue 0 n 0]\n",
    "       (if (= n (count matrixA))\n",
    "            newValue\n",
    "            (do\n",
    "                (recur (+ (* (get matrixA n)(get matrixB n)) newValue) (inc n))    \n",
    "            )\n",
    "        )\n",
    "    )\n",
    ")"
   ]
  },
  {
   "cell_type": "code",
   "execution_count": 26,
   "id": "imperial-neutral",
   "metadata": {},
   "outputs": [
    {
     "data": {
      "text/plain": [
       "#'user/matrix_multiplicacion_xt_y"
      ]
     },
     "execution_count": 26,
     "metadata": {},
     "output_type": "execute_result"
    }
   ],
   "source": [
    "(defn matrix_multiplicacion_xt_y [matrixA matrixTranspuesta]\n",
    "    (def vectorTemp [(get-Mult-Val-Xt-Y (get matrixTranspuesta 0) matrixA)(get-Mult-Val-Xt-Y (get matrixTranspuesta 1) matrixA)(get-Mult-Val-Xt-Y (get matrixTranspuesta 2) matrixA)])                               \n",
    "    vectorTemp\n",
    "    )"
   ]
  },
  {
   "cell_type": "code",
   "execution_count": 27,
   "id": "japanese-gateway",
   "metadata": {},
   "outputs": [
    {
     "data": {
      "text/plain": [
       "#'user/matrix_multiplicacion_xt_y"
      ]
     },
     "execution_count": 27,
     "metadata": {},
     "output_type": "execute_result"
    }
   ],
   "source": [
    "(def matrix_multiplicacion_xt_y (matrix_multiplicacion_xt_y rottenTomato matrix_transpuesta))"
   ]
  },
  {
   "cell_type": "code",
   "execution_count": 28,
   "id": "built-holocaust",
   "metadata": {},
   "outputs": [
    {
     "data": {
      "text/plain": [
       "[13.700000000000001 89.225 271.84]"
      ]
     },
     "execution_count": 28,
     "metadata": {},
     "output_type": "execute_result"
    }
   ],
   "source": [
    " matrix_multiplicacion_xt_y"
   ]
  },
  {
   "cell_type": "markdown",
   "id": "devoted-springfield",
   "metadata": {},
   "source": [
    "## Multiplicacion (Xt X)^-1 (Xt Y)"
   ]
  },
  {
   "cell_type": "code",
   "execution_count": 30,
   "id": "transsexual-assistant",
   "metadata": {},
   "outputs": [
    {
     "data": {
      "text/plain": [
       "#'user/get-Mult-Val-Result"
      ]
     },
     "execution_count": 30,
     "metadata": {},
     "output_type": "execute_result"
    }
   ],
   "source": [
    "(defn get-Mult-Val-Result [matrixA matrixB]\n",
    "     (loop [newValue 0 n 0]\n",
    "       (if (= n (count matrixA))\n",
    "            newValue\n",
    "            (do\n",
    "                (recur (+ (* (get matrixA n)(get matrixB n)) newValue) (inc n))    \n",
    "            )\n",
    "        )\n",
    "    )\n",
    ")"
   ]
  },
  {
   "cell_type": "code",
   "execution_count": 31,
   "id": "declared-norfolk",
   "metadata": {},
   "outputs": [
    {
     "data": {
      "text/plain": [
       "#'user/matrix_multiplicacion_result"
      ]
     },
     "execution_count": 31,
     "metadata": {},
     "output_type": "execute_result"
    }
   ],
   "source": [
    "(defn matrix_multiplicacion_result [matrixA matrixB]\n",
    "    (def vectorTemp [(get-Mult-Val-Xt-Y (get matrixB 0) matrixA)(get-Mult-Val-Xt-Y (get matrixB 1) matrixA)(get-Mult-Val-Xt-Y (get matrixB 2) matrixA)])                               \n",
    "    vectorTemp\n",
    "    )"
   ]
  },
  {
   "cell_type": "code",
   "execution_count": 36,
   "id": "alike-agency",
   "metadata": {},
   "outputs": [
    {
     "data": {
      "text/plain": [
       "[0.07078828671000004 0.12556127232999995 -0.008953548360000063]"
      ]
     },
     "execution_count": 36,
     "metadata": {},
     "output_type": "execute_result"
    }
   ],
   "source": [
    "(matrix_multiplicacion_result matrix_multiplicacion_xt_y matrix_inversa)"
   ]
  },
  {
   "cell_type": "code",
   "execution_count": null,
   "id": "signed-massachusetts",
   "metadata": {},
   "outputs": [],
   "source": []
  }
 ],
 "metadata": {
  "kernelspec": {
   "display_name": "Clojure (clojupyter=0.3.2=1)",
   "language": "clojure",
   "name": "conda-clojupyter"
  },
  "language_info": {
   "file_extension": ".clj",
   "mimetype": "text/x-clojure",
   "name": "clojure",
   "version": "1.10.1"
  }
 },
 "nbformat": 4,
 "nbformat_minor": 5
}
