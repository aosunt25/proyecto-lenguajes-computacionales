{
 "cells": [
  {
   "cell_type": "markdown",
   "id": "unexpected-recognition",
   "metadata": {},
   "source": [
    "# Proyecto Final\n"
   ]
  },
  {
   "cell_type": "markdown",
   "id": "political-investment",
   "metadata": {},
   "source": [
    "- Alfredo Osuna\n",
    "- Raul Gonzalez"
   ]
  },
  {
   "cell_type": "markdown",
   "id": "compatible-horror",
   "metadata": {},
   "source": [
    "## Librerias Necesarias"
   ]
  },
  {
   "cell_type": "code",
   "execution_count": 10,
   "id": "primary-pharmaceutical",
   "metadata": {},
   "outputs": [
    {
     "data": {
      "text/plain": [
       "{[incanter/incanter-io \"1.5.7\"] #{[net.sf.opencsv/opencsv \"2.3\"] [org.danlarkin/clojure-json \"1.1\" :exclusions [[org.clojure/clojure] [org.clojure/clojure-contrib]]]}, [org.scilab.forge/jlatexmath \"0.9.6\"] nil, [net.sf.opencsv/opencsv \"2.3\"] nil, [org.apache.xmlbeans/xmlbeans \"2.3.0\"] #{[stax/stax-api \"1.0.1\"]}, [net.sourceforge.f2j/arpack_combined_all \"0.1\"] nil, [xalan \"2.6.0\"] nil, [org.clojure/data.json \"0.2.0\"] nil, [com.lowagie/itext \"2.1.7\"] #{[bouncycastle/bcprov-jdk14 \"138\"] [org.bouncycastle/bctsp-jdk14 \"1.38\"] [bouncycastle/bcmail-jdk14 \"138\"]}, [net.sourceforge.parallelcolt/parallelcolt \"0.10.1\"] #{[com.github.rwl/JKLU \"1.0.0\"] [net.sourceforge.csparsej/csparsej \"1.1.1\"] [com.googlecode.netlib-java/netlib-java \"0.9.3\"] [net.sourceforge.parallelcolt/optimization \"1.0\"] [net.sourceforge.jtransforms/jtransforms \"2.4.0\"] [net.sourceforge.jplasma/jplasma \"1.2.0\"]}, [com.github.rwl/JKLU \"1.0.0\"] #{[com.github.rwl/BTFJ \"1.0.1\"] [com.github.rwl/AMDJ \"1.0.1\"] [com.github.rwl/COLAMDJ \"1.0.1\"]}, [org.apache.poi/poi-ooxml-schemas \"3.9\"] #{[org.apache.xmlbeans/xmlbeans \"2.3.0\"]}, [net.mikera/core.matrix \"0.7.2\"] nil, [stax/stax-api \"1.0.1\"] nil, [org.bouncycastle/bcmail-jdk14 \"1.38\"] nil, [org.apache.poi/poi-ooxml \"3.9\"] #{[org.apache.poi/poi-ooxml-schemas \"3.9\"] [dom4j \"1.6.1\"] [org.apache.poi/poi \"3.9\"]}, [joda-time \"2.2\"] nil, [org.clojure/core.incubator \"0.1.2\"] nil, [org.apache.xmlgraphics/batik-css \"1.7\"] nil, [org.apache.xmlgraphics/batik-ext \"1.7\"] nil, [org.apache.xmlgraphics/batik-awt-util \"1.7\"] nil, [junit \"4.8.2\"] nil, [incanter/jcommon \"1.0.16\"] nil, [incanter/incanter-excel \"1.5.7\"] #{[org.apache.poi/poi-ooxml \"3.9\"]}, [incanter/incanter-mongodb \"1.5.7\"] #{[congomongo \"0.3.3\" :exclusions [[org.clojure/clojure] [org.clojure/clojure-contrib]]]}, [net.sourceforge.csparsej/csparsej \"1.1.1\"] nil, [org.clojure/java.jdbc \"0.2.3\"] nil, [xml-apis \"1.3.04\"] nil, [org.jblas/jblas \"1.2.3\"] nil, [clojureql \"1.0.4\" :exclusions [[org.clojure/clojure]]] #{[org.clojure/java.jdbc \"0.2.3\"]}, [congomongo \"0.3.3\" :exclusions [[org.clojure/clojure] [org.clojure/clojure-contrib]]] #{[org.clojure/data.json \"0.2.0\"] [org.clojure/core.incubator \"0.1.2\"] [org.mongodb/mongo-java-driver \"2.9.3\"]}, [com.googlecode.netlib-java/netlib-java \"0.9.3\"] nil, [bouncycastle/bcprov-jdk14 \"138\"] nil, [org.bouncycastle/bctsp-jdk14 \"1.38\"] #{[org.bouncycastle/bcmail-jdk14 \"1.38\"] [org.bouncycastle/bcprov-jdk14 \"1.38\"]}, [org.apache.xmlgraphics/batik-svggen \"1.7\"] nil, [bouncycastle/bcmail-jdk14 \"138\"] nil, [net.sourceforge.parallelcolt/optimization \"1.0\"] nil, [incanter/incanter-zoo \"1.5.7\"] nil, [incanter/jfreechart \"1.0.13-no-gnujaxp\"] #{[incanter/jcommon \"1.0.16\"]}, [incanter \"1.5.7\"] #{[incanter/incanter-io \"1.5.7\"] [incanter/incanter-excel \"1.5.7\"] [incanter/incanter-mongodb \"1.5.7\"] [incanter/incanter-zoo \"1.5.7\"] [incanter/incanter-core \"1.5.7\"] [incanter/incanter-pdf \"1.5.7\"] [incanter/incanter-latex \"1.5.7\"] [incanter/incanter-sql \"1.5.7\"] [incanter/incanter-charts \"1.5.7\"] [incanter/incanter-svg \"1.5.7\"] [org.clojure/clojure \"1.5.1\"]}, [com.github.rwl/BTFJ \"1.0.1\"] nil, [incanter/incanter-core \"1.5.7\"] #{[net.sourceforge.parallelcolt/parallelcolt \"0.10.1\"] [org.clojure/math.combinatorics \"0.0.4\" :exclusions [[org.clojure/clojure]]] [clatrix \"0.3.0\" :exclusions [[org.clojure/clojure]]]}, [incanter/incanter-pdf \"1.5.7\"] #{[com.lowagie/itext \"2.1.7\"]}, [clj-time \"0.6.0\" :exclusions [[org.clojure/clojure]]] #{[joda-time \"2.2\"]}, [incanter/incanter-latex \"1.5.7\"] #{[org.scilab.forge/jlatexmath \"0.9.6\"]}, [net.sourceforge.jtransforms/jtransforms \"2.4.0\"] #{[junit \"4.8.2\"]}, [slingshot \"0.10.3\"] nil, [org.danlarkin/clojure-json \"1.1\" :exclusions [[org.clojure/clojure] [org.clojure/clojure-contrib]]] nil, [org.apache.xmlgraphics/batik-xml \"1.7\"] nil, [org.apache.xmlgraphics/batik-util \"1.7\"] nil, [incanter/incanter-sql \"1.5.7\"] #{[clojureql \"1.0.4\" :exclusions [[org.clojure/clojure]]]}, [incanter/incanter-charts \"1.5.7\"] #{[incanter/jfreechart \"1.0.13-no-gnujaxp\"] [clj-time \"0.6.0\" :exclusions [[org.clojure/clojure]]]}, [xml-apis/xml-apis-ext \"1.3.04\"] nil, [dom4j \"1.6.1\"] nil, [org.apache.xmlgraphics/batik-dom \"1.7\"] #{[xalan \"2.6.0\"] [org.apache.xmlgraphics/batik-css \"1.7\"] [org.apache.xmlgraphics/batik-ext \"1.7\"] [xml-apis \"1.3.04\"] [xml-apis/xml-apis-ext \"1.3.04\"]}, [incanter/incanter-svg \"1.5.7\"] #{[org.apache.xmlgraphics/batik-awt-util \"1.7\"] [org.apache.xmlgraphics/batik-svggen \"1.7\"] [org.apache.xmlgraphics/batik-xml \"1.7\"] [org.apache.xmlgraphics/batik-util \"1.7\"] [org.apache.xmlgraphics/batik-dom \"1.7\"]}, [org.clojure/clojure \"1.5.1\"] nil, [net.sourceforge.jplasma/jplasma \"1.2.0\"] #{[net.sourceforge.f2j/arpack_combined_all \"0.1\"] [net.sourceforge.jplasma/core-lapack \"0.1\"]}, [org.mongodb/mongo-java-driver \"2.9.3\"] nil, [org.clojure/math.combinatorics \"0.0.4\" :exclusions [[org.clojure/clojure]]] nil, [com.github.rwl/AMDJ \"1.0.1\"] nil, [org.apache.poi/poi \"3.9\"] #{[commons-codec \"1.5\"]}, [commons-codec \"1.5\"] nil, [net.sourceforge.jplasma/core-lapack \"0.1\"] nil, [com.github.rwl/COLAMDJ \"1.0.1\"] nil, [org.bouncycastle/bcprov-jdk14 \"1.38\"] nil, [clatrix \"0.3.0\" :exclusions [[org.clojure/clojure]]] #{[net.mikera/core.matrix \"0.7.2\"] [org.jblas/jblas \"1.2.3\"] [slingshot \"0.10.3\"]}}"
      ]
     },
     "execution_count": 10,
     "metadata": {},
     "output_type": "execute_result"
    }
   ],
   "source": [
    "(require '[clojure.string :as s])\n",
    "(require '[clojupyter.misc.helper :as helper])\n",
    "(helper/add-dependencies '[net.mikera/core.matrix \"0.62.0\"])\n",
    "(helper/add-dependencies '[net.mikera/vectorz-clj \"0.48.0\"])\n",
    "(set-current-implementation :vectorz)\n",
    "(use 'clojure.core.matrix)\n",
    "(defn toInt[x] (Integer/parseInt x));Java\n",
    "(defn toDouble[x] (Double/parseDouble x));Java\n",
    "(helper/add-dependencies '[incanter \"1.5.7\"])"
   ]
  },
  {
   "cell_type": "markdown",
   "id": "educational-guard",
   "metadata": {},
   "source": [
    "## Clase de Pelicula"
   ]
  },
  {
   "cell_type": "code",
   "execution_count": 11,
   "id": "european-shore",
   "metadata": {},
   "outputs": [
    {
     "data": {
      "text/plain": [
       "user.Movie"
      ]
     },
     "execution_count": 11,
     "metadata": {},
     "output_type": "execute_result"
    }
   ],
   "source": [
    "(defrecord Movie [x0 imdb runtime rottenTomato]\n",
    "    Object \n",
    "    (toString [this]\n",
    "              (format \"%s,%s,%s,%s\" x0 imdb runtime rottenTomato)\n",
    "              )\n",
    "    )"
   ]
  },
  {
   "cell_type": "markdown",
   "id": "early-coaching",
   "metadata": {},
   "source": [
    "## Lectura de informacion"
   ]
  },
  {
   "cell_type": "code",
   "execution_count": 12,
   "id": "wanted-family",
   "metadata": {},
   "outputs": [
    {
     "data": {
      "text/plain": [
       "#'user/data"
      ]
     },
     "execution_count": 12,
     "metadata": {},
     "output_type": "execute_result"
    }
   ],
   "source": [
    "(def data (vec (rest (s/split-lines (slurp \"Clean-Data.csv\") ) ) ) )"
   ]
  },
  {
   "cell_type": "markdown",
   "id": "classified-progress",
   "metadata": {},
   "source": [
    "## Conversion de datos"
   ]
  },
  {
   "cell_type": "code",
   "execution_count": 13,
   "id": "offshore-huntington",
   "metadata": {},
   "outputs": [
    {
     "data": {
      "text/plain": [
       "#'user/toMovie"
      ]
     },
     "execution_count": 13,
     "metadata": {},
     "output_type": "execute_result"
    }
   ],
   "source": [
    "(defn toMovie[ record ]\n",
    "    (Movie. \n",
    "         (toInt(get record 0))  \n",
    "         (toDouble (get record 1))\n",
    "         (toInt (get record 2)) \n",
    "         (toDouble (get record 3))\n",
    "     )\n",
    ")"
   ]
  },
  {
   "cell_type": "code",
   "execution_count": 14,
   "id": "rotary-detective",
   "metadata": {},
   "outputs": [
    {
     "data": {
      "text/plain": [
       "#'user/get-Movies-lazy"
      ]
     },
     "execution_count": 14,
     "metadata": {},
     "output_type": "execute_result"
    }
   ],
   "source": [
    "(defn get-Movies-lazy [datos] \n",
    "    (lazy-seq (cons (toMovie (s/split (first datos) #\",\"))(get-Movies-lazy (rest datos))) )\n",
    "    )"
   ]
  },
  {
   "cell_type": "code",
   "execution_count": 15,
   "id": "australian-understanding",
   "metadata": {},
   "outputs": [
    {
     "data": {
      "text/plain": [
       "#'user/get-Vector-Valor"
      ]
     },
     "execution_count": 15,
     "metadata": {},
     "output_type": "execute_result"
    }
   ],
   "source": [
    "(defn get-Vector-Valor [datos, valor]\n",
    "    (lazy-seq (cons (valor (first datos))(get-Vector-Valor (rest datos) valor)))\n",
    "    )"
   ]
  },
  {
   "cell_type": "code",
   "execution_count": 16,
   "id": "steady-garlic",
   "metadata": {},
   "outputs": [
    {
     "data": {
      "text/plain": [
       "#'user/movies"
      ]
     },
     "execution_count": 16,
     "metadata": {},
     "output_type": "execute_result"
    }
   ],
   "source": [
    "(def movies (take 5120 (get-Movies-lazy data)))"
   ]
  },
  {
   "cell_type": "code",
   "execution_count": 17,
   "id": "nutritional-advertising",
   "metadata": {},
   "outputs": [
    {
     "data": {
      "text/plain": [
       "#'user/imdb"
      ]
     },
     "execution_count": 17,
     "metadata": {},
     "output_type": "execute_result"
    }
   ],
   "source": [
    "(def imdb (vec (take 5120 (get-Vector-Valor movies :imdb))))"
   ]
  },
  {
   "cell_type": "code",
   "execution_count": 18,
   "id": "federal-benchmark",
   "metadata": {},
   "outputs": [
    {
     "data": {
      "text/plain": [
       "#'user/rottenTomato"
      ]
     },
     "execution_count": 18,
     "metadata": {},
     "output_type": "execute_result"
    }
   ],
   "source": [
    "(def rottenTomato (vec (take 5120 (get-Vector-Valor movies :rottenTomato))))"
   ]
  },
  {
   "cell_type": "code",
   "execution_count": 19,
   "id": "induced-saturday",
   "metadata": {
    "scrolled": true
   },
   "outputs": [
    {
     "data": {
      "text/plain": [
       "#'user/runtime"
      ]
     },
     "execution_count": 19,
     "metadata": {},
     "output_type": "execute_result"
    }
   ],
   "source": [
    "(def runtime (vec (take 5120 (get-Vector-Valor movies :runtime))))"
   ]
  },
  {
   "cell_type": "code",
   "execution_count": 20,
   "id": "embedded-friend",
   "metadata": {},
   "outputs": [
    {
     "data": {
      "text/plain": [
       "#'user/x0"
      ]
     },
     "execution_count": 20,
     "metadata": {},
     "output_type": "execute_result"
    }
   ],
   "source": [
    "(def x0 (vec (take 5120 (get-Vector-Valor movies :x0))))"
   ]
  },
  {
   "cell_type": "code",
   "execution_count": 21,
   "id": "exact-authorization",
   "metadata": {},
   "outputs": [
    {
     "data": {
      "text/plain": [
       "#'user/matrix_transpuesta"
      ]
     },
     "execution_count": 21,
     "metadata": {},
     "output_type": "execute_result"
    }
   ],
   "source": [
    "(def  matrix_transpuesta [x0 imdb runtime])"
   ]
  },
  {
   "cell_type": "markdown",
   "id": "round-atlanta",
   "metadata": {},
   "source": [
    "## Transpuesta Xt"
   ]
  },
  {
   "cell_type": "code",
   "execution_count": 22,
   "id": "alert-tokyo",
   "metadata": {},
   "outputs": [
    {
     "data": {
      "text/plain": [
       "#'user/matrixA"
      ]
     },
     "execution_count": 22,
     "metadata": {},
     "output_type": "execute_result"
    }
   ],
   "source": [
    "(def matrixA (transpose matrix_transpuesta))"
   ]
  },
  {
   "cell_type": "markdown",
   "id": "hired-ordinary",
   "metadata": {},
   "source": [
    "## Multiplicador de matrices (Xt X)\n"
   ]
  },
  {
   "cell_type": "code",
   "execution_count": 23,
   "id": "polyphonic-spanish",
   "metadata": {},
   "outputs": [
    {
     "data": {
      "text/plain": [
       "#'user/matrix_multiplicacion_xt_x"
      ]
     },
     "execution_count": 23,
     "metadata": {},
     "output_type": "execute_result"
    }
   ],
   "source": [
    "(def matrix_multiplicacion_xt_x (mmul matrix_transpuesta matrixA))"
   ]
  },
  {
   "cell_type": "code",
   "execution_count": 24,
   "id": "dynamic-brass",
   "metadata": {},
   "outputs": [
    {
     "data": {
      "text/plain": [
       "[[5120.0 32641.600000000042 512570.0] [32641.600000000042 213247.28 3290089.9000000055] [512570.0 3290089.9000000055 5.3714518E7]]"
      ]
     },
     "execution_count": 24,
     "metadata": {},
     "output_type": "execute_result"
    }
   ],
   "source": [
    "matrix_multiplicacion_xt_x"
   ]
  },
  {
   "cell_type": "markdown",
   "id": "sensitive-priority",
   "metadata": {},
   "source": [
    "## Inversa (Xt X)^-1"
   ]
  },
  {
   "cell_type": "code",
   "execution_count": 25,
   "id": "interim-barrel",
   "metadata": {},
   "outputs": [
    {
     "data": {
      "text/plain": [
       "#'user/matrix_inversa"
      ]
     },
     "execution_count": 25,
     "metadata": {},
     "output_type": "execute_result"
    }
   ],
   "source": [
    "(def matrix_inversa (inverse matrix_multiplicacion_xt_x))"
   ]
  },
  {
   "cell_type": "code",
   "execution_count": 26,
   "id": "abandoned-steel",
   "metadata": {},
   "outputs": [
    {
     "data": {
      "text/plain": [
       "[[0.010373355596556475 -0.0011023659305894101 -3.146612734737078E-5] [-0.0011023659305894101 2.0243777987766342E-4 -1.8802884894491774E-6] [-3.146612734737078E-5 -1.8802884894491774E-6 4.340523182701685E-7]]"
      ]
     },
     "execution_count": 26,
     "metadata": {},
     "output_type": "execute_result"
    }
   ],
   "source": [
    "matrix_inversa"
   ]
  },
  {
   "cell_type": "markdown",
   "id": "mediterranean-notebook",
   "metadata": {},
   "source": [
    "## Multiplicacion Xt Y"
   ]
  },
  {
   "cell_type": "code",
   "execution_count": 27,
   "id": "japanese-gateway",
   "metadata": {},
   "outputs": [
    {
     "data": {
      "text/plain": [
       "#'user/matrix_multiplicacion_xt_y"
      ]
     },
     "execution_count": 27,
     "metadata": {},
     "output_type": "execute_result"
    }
   ],
   "source": [
    "(def matrix_multiplicacion_xt_y (mmul matrix_transpuesta rottenTomato))"
   ]
  },
  {
   "cell_type": "code",
   "execution_count": 28,
   "id": "built-holocaust",
   "metadata": {},
   "outputs": [
    {
     "data": {
      "text/plain": [
       "[3348.1400000000067 22189.450999999986 335297.04000000126]"
      ]
     },
     "execution_count": 28,
     "metadata": {},
     "output_type": "execute_result"
    }
   ],
   "source": [
    " matrix_multiplicacion_xt_y"
   ]
  },
  {
   "cell_type": "markdown",
   "id": "devoted-springfield",
   "metadata": {},
   "source": [
    "## Multiplicacion (Xt X)^-1 (Xt Y)"
   ]
  },
  {
   "cell_type": "code",
   "execution_count": 29,
   "id": "alike-agency",
   "metadata": {},
   "outputs": [
    {
     "data": {
      "text/plain": [
       "#'user/pesos"
      ]
     },
     "execution_count": 29,
     "metadata": {},
     "output_type": "execute_result"
    }
   ],
   "source": [
    "(def pesos (mmul matrix_inversa matrix_multiplicacion_xt_y))"
   ]
  },
  {
   "cell_type": "code",
   "execution_count": 30,
   "id": "signed-massachusetts",
   "metadata": {},
   "outputs": [
    {
     "data": {
      "text/plain": [
       "[-0.2799473536649515 0.17065256544217766 -0.001539111398196763]"
      ]
     },
     "execution_count": 30,
     "metadata": {},
     "output_type": "execute_result"
    }
   ],
   "source": [
    "pesos"
   ]
  },
  {
   "cell_type": "code",
   "execution_count": 31,
   "id": "violent-camcorder",
   "metadata": {},
   "outputs": [
    {
     "data": {
      "text/plain": [
       "#'user/x2"
      ]
     },
     "execution_count": 31,
     "metadata": {},
     "output_type": "execute_result"
    }
   ],
   "source": [
    "(def x1 10)\n",
    "(def x2 106)"
   ]
  },
  {
   "cell_type": "code",
   "execution_count": 32,
   "id": "based-primary",
   "metadata": {
    "scrolled": true
   },
   "outputs": [
    {
     "data": {
      "text/plain": [
       "1.2634324925479683"
      ]
     },
     "execution_count": 32,
     "metadata": {},
     "output_type": "execute_result"
    }
   ],
   "source": [
    "(+ (get pesos 0)(* (get pesos 1) x1)(* (get pesos 2) x2))"
   ]
  },
  {
   "cell_type": "markdown",
   "id": "comic-medium",
   "metadata": {},
   "source": [
    "## Grafica"
   ]
  },
  {
   "cell_type": "code",
   "execution_count": 43,
   "id": "champion-haven",
   "metadata": {},
   "outputs": [
    {
     "name": "stdout",
     "output_type": "stream",
     "text": [
      "Starting http-kit...\r\n"
     ]
    },
    {
     "data": {
      "text/plain": [
       "\"http://localhost:1040/\""
      ]
     },
     "execution_count": 43,
     "metadata": {},
     "output_type": "execute_result"
    }
   ],
   "source": [
    "(require '[clojupyter.misc.helper :as helper])\n",
    "(helper/add-dependencies '[hswick/jutsu \"0.1.1\"])\n",
    "(require '[jutsu.core :as j])\n",
    "(j/start-jutsu! )"
   ]
  },
  {
   "cell_type": "code",
   "execution_count": 37,
   "id": "corporate-tolerance",
   "metadata": {},
   "outputs": [
    {
     "data": {
      "text/plain": [
       "#'user/imdb_g"
      ]
     },
     "execution_count": 37,
     "metadata": {},
     "output_type": "execute_result"
    }
   ],
   "source": [
    "(def imdb_g (apply list imdb))"
   ]
  },
  {
   "cell_type": "code",
   "execution_count": 38,
   "id": "tested-president",
   "metadata": {},
   "outputs": [
    {
     "data": {
      "text/plain": [
       "#'user/runtime_g"
      ]
     },
     "execution_count": 38,
     "metadata": {},
     "output_type": "execute_result"
    }
   ],
   "source": [
    "(def runtime_g (apply list runtime))"
   ]
  },
  {
   "cell_type": "code",
   "execution_count": 40,
   "id": "noticed-testimony",
   "metadata": {},
   "outputs": [
    {
     "data": {
      "text/plain": [
       "#'user/rottenTomato_g"
      ]
     },
     "execution_count": 40,
     "metadata": {},
     "output_type": "execute_result"
    }
   ],
   "source": [
    "(def rottenTomato_g (apply list rottenTomato))"
   ]
  },
  {
   "cell_type": "code",
   "execution_count": 41,
   "id": "affecting-landscape",
   "metadata": {},
   "outputs": [
    {
     "data": {
      "text/plain": [
       "#'user/c"
      ]
     },
     "execution_count": 41,
     "metadata": {},
     "output_type": "execute_result"
    }
   ],
   "source": [
    "(def a (get pesos 0))\n",
    "(def b (get pesos 1))\n",
    "(def c (get pesos 2))"
   ]
  },
  {
   "cell_type": "code",
   "execution_count": 42,
   "id": "sorted-investment",
   "metadata": {},
   "outputs": [
    {
     "data": {
      "text/plain": [
       "#'user/y_pred"
      ]
     },
     "execution_count": 42,
     "metadata": {},
     "output_type": "execute_result"
    }
   ],
   "source": [
    "(def y_pred (map + (take (count imdb_g) (repeat a)) (map #(* % b) imdb_g) (map #(* % c) rottenTomatto_g) ) )"
   ]
  },
  {
   "cell_type": "code",
   "execution_count": 44,
   "id": "fitting-notification",
   "metadata": {},
   "outputs": [
    {
     "data": {
      "text/plain": [
       "1"
      ]
     },
     "execution_count": 44,
     "metadata": {},
     "output_type": "execute_result"
    }
   ],
   "source": [
    "(def scatter-graph3d [{:x imdb_g\n",
    "                       :y runtime_g\n",
    "                       :z y_pred\n",
    "                       :mode \"markers\"\n",
    "                       :type \"scatter3d\"}])\n",
    "(j/graph! \"Price data\" scatter-graph3d)"
   ]
  },
  {
   "cell_type": "code",
   "execution_count": null,
   "id": "neither-viewer",
   "metadata": {},
   "outputs": [],
   "source": []
  }
 ],
 "metadata": {
  "kernelspec": {
   "display_name": "Clojure (clojupyter=0.3.2=1)",
   "language": "clojure",
   "name": "conda-clojupyter"
  },
  "language_info": {
   "file_extension": ".clj",
   "mimetype": "text/x-clojure",
   "name": "clojure",
   "version": "1.10.1"
  }
 },
 "nbformat": 4,
 "nbformat_minor": 5
}
