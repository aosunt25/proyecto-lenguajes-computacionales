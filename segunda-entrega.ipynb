{
 "cells": [
  {
   "cell_type": "markdown",
   "id": "trying-maple",
   "metadata": {},
   "source": [
    "# Segunda Entrega del Proyecto Final"
   ]
  },
  {
   "cell_type": "markdown",
   "id": "historical-baltimore",
   "metadata": {},
   "source": [
    "Alfredo Osuna Torres\n",
    "\n",
    "Raul Gonzalez Cardona"
   ]
  },
  {
   "cell_type": "markdown",
   "id": "incredible-enterprise",
   "metadata": {},
   "source": [
    "### Lectura de datos"
   ]
  },
  {
   "cell_type": "code",
   "execution_count": 1,
   "id": "frank-narrow",
   "metadata": {},
   "outputs": [
    {
     "data": {
      "text/plain": [
       "nil"
      ]
     },
     "execution_count": 1,
     "metadata": {},
     "output_type": "execute_result"
    }
   ],
   "source": [
    "(require '[clojure.string :as s])"
   ]
  },
  {
   "cell_type": "code",
   "execution_count": 2,
   "id": "generous-smoke",
   "metadata": {},
   "outputs": [
    {
     "data": {
      "text/plain": [
       "#'user/toDouble"
      ]
     },
     "execution_count": 2,
     "metadata": {},
     "output_type": "execute_result"
    }
   ],
   "source": [
    "(defn toInt[x] (Integer/parseInt x));Java\n",
    "(defn toDouble[x] (Double/parseDouble x));Java"
   ]
  },
  {
   "cell_type": "markdown",
   "id": "furnished-hearing",
   "metadata": {},
   "source": [
    "Clase de Peliculas"
   ]
  },
  {
   "cell_type": "code",
   "execution_count": 3,
   "id": "martial-portland",
   "metadata": {},
   "outputs": [
    {
     "data": {
      "text/plain": [
       "user.Movie"
      ]
     },
     "execution_count": 3,
     "metadata": {},
     "output_type": "execute_result"
    }
   ],
   "source": [
    "(defrecord Movie [id title year age imdb rottenTomato netflix hulu primeVideo disneyPlus types director geners country lenguage runtime]\n",
    "    Object \n",
    "    (toString [this]\n",
    "              (format \"%s,%s,%s,%s,%s,%s,%s,%s,%s,%s,%s,%s,%s,%s,%s,%s\" id title year age imdb rottenTomato netflix hulu primeVideo disneyPlus types director geners country lenguage runtime)\n",
    "              )\n",
    "    )"
   ]
  },
  {
   "cell_type": "markdown",
   "id": "accepting-underground",
   "metadata": {},
   "source": [
    "Saca la informacion del csv con split en las comas"
   ]
  },
  {
   "cell_type": "code",
   "execution_count": 4,
   "id": "thousand-conducting",
   "metadata": {},
   "outputs": [
    {
     "data": {
      "text/plain": [
       "#'user/data"
      ]
     },
     "execution_count": 4,
     "metadata": {},
     "output_type": "execute_result"
    }
   ],
   "source": [
    "(def data (vec (rest (s/split-lines (slurp \"MoviesOnStreamingPlatforms_updated.csv\") ) ) ) )"
   ]
  },
  {
   "cell_type": "markdown",
   "id": "described-definition",
   "metadata": {},
   "source": [
    "Funcion que convierte cada elemento del vector de data a Movie"
   ]
  },
  {
   "cell_type": "code",
   "execution_count": 6,
   "id": "peripheral-judges",
   "metadata": {},
   "outputs": [
    {
     "data": {
      "text/plain": [
       "#'user/toMovie"
      ]
     },
     "execution_count": 6,
     "metadata": {},
     "output_type": "execute_result"
    }
   ],
   "source": [
    "(defn toMovie[ record ]\n",
    "    (Movie. \n",
    "     (toInt(get record 0))  \n",
    "     (get record 1)  \n",
    "     (toInt (get record 2)) \n",
    "     (get record 3) (toDouble (get record 4)) (toDouble (get record 5)) \n",
    "                                (toInt (get record 6)) \n",
    "                                (toInt (get record 7))\n",
    "                                (toInt (get record 8))\n",
    "                                (toInt (get record 9))\n",
    "                                (toInt (get record 10))\n",
    "                                (get record 11)\n",
    "                                (get record 12)\n",
    "                                (get record 13)\n",
    "                                (get record 14)\n",
    "                                (toInt (get record 15)) \n",
    "                               ))"
   ]
  },
  {
   "cell_type": "markdown",
   "id": "supposed-inspection",
   "metadata": {},
   "source": [
    "Lazy-seq que manda a llamar toMovie por cada elemento de datos"
   ]
  },
  {
   "cell_type": "code",
   "execution_count": 7,
   "id": "thrown-resource",
   "metadata": {},
   "outputs": [
    {
     "data": {
      "text/plain": [
       "#'user/get-Movies-lazy"
      ]
     },
     "execution_count": 7,
     "metadata": {},
     "output_type": "execute_result"
    }
   ],
   "source": [
    "(defn get-Movies-lazy [datos] \n",
    "    (lazy-seq (cons (toMovie (s/split (first datos) #\",\"))(get-Movies-lazy (rest datos))) )\n",
    "    )"
   ]
  },
  {
   "cell_type": "code",
   "execution_count": 22,
   "id": "democratic-flooring",
   "metadata": {},
   "outputs": [
    {
     "data": {
      "text/plain": [
       "#'user/movies"
      ]
     },
     "execution_count": 22,
     "metadata": {},
     "output_type": "execute_result"
    }
   ],
   "source": [
    "(def movies (take 16744 (get-Movies-lazy data)))"
   ]
  },
  {
   "cell_type": "code",
   "execution_count": 27,
   "id": "selected-broadway",
   "metadata": {},
   "outputs": [
    {
     "data": {
      "text/plain": [
       "#'user/filtraDatos"
      ]
     },
     "execution_count": 27,
     "metadata": {},
     "output_type": "execute_result"
    }
   ],
   "source": [
    "(defn filtraDatos [movies att]\n",
    "    (loop [m movies datos []]\n",
    "        (if (= 0 (count m))\n",
    "            datos\n",
    "            (do\n",
    "                (recur (rest m) (conj datos (att (first m))))\n",
    "            )\n",
    "            )\n",
    "        \n",
    "        )\n",
    "    \n",
    "    )"
   ]
  },
  {
   "cell_type": "code",
   "execution_count": null,
   "id": "canadian-playing",
   "metadata": {},
   "outputs": [],
   "source": [
    "(def datos (filtraDatos movies :rottenomato))"
   ]
  },
  {
   "cell_type": "markdown",
   "id": "declared-petite",
   "metadata": {},
   "source": [
    "#### Sort\n"
   ]
  },
  {
   "cell_type": "markdown",
   "id": "precise-borough",
   "metadata": {},
   "source": [
    "#### Mayor"
   ]
  },
  {
   "cell_type": "code",
   "execution_count": 49,
   "id": "vital-symposium",
   "metadata": {},
   "outputs": [
    {
     "data": {
      "text/plain": [
       "#'user/mayor"
      ]
     },
     "execution_count": 49,
     "metadata": {},
     "output_type": "execute_result"
    }
   ],
   "source": [
    "(defn mayor [datos]\n",
    "    (first (sort datos))\n",
    ")"
   ]
  },
  {
   "cell_type": "markdown",
   "id": "joined-netherlands",
   "metadata": {},
   "source": [
    "#### Menor\n"
   ]
  },
  {
   "cell_type": "code",
   "execution_count": 50,
   "id": "electrical-concept",
   "metadata": {},
   "outputs": [
    {
     "data": {
      "text/plain": [
       "#'user/menor"
      ]
     },
     "execution_count": 50,
     "metadata": {},
     "output_type": "execute_result"
    }
   ],
   "source": [
    "(defn menor [datos]\n",
    "    (last (first (bubble-sort[datos])))\n",
    ")"
   ]
  },
  {
   "cell_type": "code",
   "execution_count": 51,
   "id": "stuffed-finland",
   "metadata": {},
   "outputs": [
    {
     "data": {
      "text/plain": [
       "0.0"
      ]
     },
     "execution_count": 51,
     "metadata": {},
     "output_type": "execute_result"
    }
   ],
   "source": [
    "(mayor datos)\n"
   ]
  },
  {
   "cell_type": "code",
   "execution_count": 44,
   "id": "israeli-adelaide",
   "metadata": {},
   "outputs": [
    {
     "data": {
      "text/plain": [
       "0.0"
      ]
     },
     "execution_count": 44,
     "metadata": {},
     "output_type": "execute_result"
    }
   ],
   "source": [
    "(menor datos)"
   ]
  },
  {
   "cell_type": "markdown",
   "id": "resident-brief",
   "metadata": {},
   "source": [
    "#### Media"
   ]
  },
  {
   "cell_type": "code",
   "execution_count": 36,
   "id": "sexual-geneva",
   "metadata": {},
   "outputs": [
    {
     "data": {
      "text/plain": [
       "#'user/media"
      ]
     },
     "execution_count": 36,
     "metadata": {},
     "output_type": "execute_result"
    }
   ],
   "source": [
    "(defn media [datos]\n",
    "    (/ (reduce + datos) (count datos))\n",
    ")"
   ]
  },
  {
   "cell_type": "code",
   "execution_count": 37,
   "id": "romantic-necessity",
   "metadata": {},
   "outputs": [
    {
     "data": {
      "text/plain": [
       "0.2015527950310568"
      ]
     },
     "execution_count": 37,
     "metadata": {},
     "output_type": "execute_result"
    }
   ],
   "source": [
    "(media datos)"
   ]
  },
  {
   "cell_type": "markdown",
   "id": "mediterranean-active",
   "metadata": {},
   "source": [
    "#### Desviacion Estandar\n"
   ]
  },
  {
   "cell_type": "code",
   "execution_count": 38,
   "id": "hawaiian-value",
   "metadata": {},
   "outputs": [
    {
     "data": {
      "text/plain": [
       "#'user/desviacion_estandar"
      ]
     },
     "execution_count": 38,
     "metadata": {},
     "output_type": "execute_result"
    }
   ],
   "source": [
    "(defn desviacion_estandar \n",
    "    [datos]\n",
    "    (def vari)\n",
    "    (Math/sqrt \n",
    "        (/ \n",
    "            (reduce + (map #(* % %) (map - datos (repeat (media datos))))) \n",
    "            (count datos)\n",
    "        )\n",
    "    )\n",
    ")"
   ]
  },
  {
   "cell_type": "code",
   "execution_count": 42,
   "id": "great-necessity",
   "metadata": {},
   "outputs": [
    {
     "data": {
      "text/plain": [
       "1.7036298135247323"
      ]
     },
     "execution_count": 42,
     "metadata": {},
     "output_type": "execute_result"
    }
   ],
   "source": [
    "(desviacion_estandar datos)"
   ]
  },
  {
   "cell_type": "markdown",
   "id": "deluxe-orientation",
   "metadata": {},
   "source": [
    "#### Mediana"
   ]
  },
  {
   "cell_type": "code",
   "execution_count": 43,
   "id": "miniature-techno",
   "metadata": {},
   "outputs": [
    {
     "data": {
      "text/plain": [
       "#'user/mediana"
      ]
     },
     "execution_count": 43,
     "metadata": {},
     "output_type": "execute_result"
    }
   ],
   "source": [
    "(defn mediana [datos]\n",
    "    ((vec (first (bubble-sort[datos]))) (/ (count datos) 2))\n",
    ")"
   ]
  },
  {
   "cell_type": "code",
   "execution_count": 44,
   "id": "annoying-twins",
   "metadata": {},
   "outputs": [
    {
     "data": {
      "text/plain": [
       "6.0"
      ]
     },
     "execution_count": 44,
     "metadata": {},
     "output_type": "execute_result"
    }
   ],
   "source": [
    "(mediana datos)"
   ]
  }
 ],
 "metadata": {
  "kernelspec": {
   "display_name": "Clojure (clojupyter=0.3.2=1)",
   "language": "clojure",
   "name": "conda-clojupyter"
  },
  "language_info": {
   "file_extension": ".clj",
   "mimetype": "text/x-clojure",
   "name": "clojure",
   "version": "1.10.1"
  }
 },
 "nbformat": 4,
 "nbformat_minor": 5
}
