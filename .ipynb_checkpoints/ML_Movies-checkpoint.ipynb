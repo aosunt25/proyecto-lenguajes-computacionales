{
 "cells": [
  {
   "cell_type": "markdown",
   "id": "mobile-poverty",
   "metadata": {},
   "source": [
    "# Proyecto Final\n"
   ]
  },
  {
   "cell_type": "markdown",
   "id": "enabling-title",
   "metadata": {},
   "source": [
    "- Alfredo Osuna\n",
    "- Raul Gonzalez"
   ]
  },
  {
   "cell_type": "markdown",
   "id": "compatible-horror",
   "metadata": {},
   "source": [
    "#### Librerias Necesarias"
   ]
  },
  {
   "cell_type": "code",
   "execution_count": 1,
   "id": "primary-pharmaceutical",
   "metadata": {},
   "outputs": [
    {
     "data": {
      "text/plain": [
       "#'user/toDouble"
      ]
     },
     "execution_count": 1,
     "metadata": {},
     "output_type": "execute_result"
    }
   ],
   "source": [
    "(require '[clojure.string :as s])\n",
    "(defn toInt[x] (Integer/parseInt x));Java\n",
    "(defn toDouble[x] (Double/parseDouble x));Java"
   ]
  },
  {
   "cell_type": "markdown",
   "id": "educational-guard",
   "metadata": {},
   "source": [
    "Clase de Pelicula"
   ]
  },
  {
   "cell_type": "code",
   "execution_count": 15,
   "id": "european-shore",
   "metadata": {},
   "outputs": [
    {
     "data": {
      "text/plain": [
       "user.Movie"
      ]
     },
     "execution_count": 15,
     "metadata": {},
     "output_type": "execute_result"
    }
   ],
   "source": [
    "(defrecord Movie [x0 imdb runtime rottenTomato]\n",
    "    Object \n",
    "    (toString [this]\n",
    "              (format \"%s,%s,%s,%s\" x0 imdb runtime rottenTomato)\n",
    "              )\n",
    "    )"
   ]
  },
  {
   "cell_type": "markdown",
   "id": "early-coaching",
   "metadata": {},
   "source": [
    "Lectura de informacion"
   ]
  },
  {
   "cell_type": "code",
   "execution_count": 17,
   "id": "wanted-family",
   "metadata": {},
   "outputs": [
    {
     "data": {
      "text/plain": [
       "#'user/data"
      ]
     },
     "execution_count": 17,
     "metadata": {},
     "output_type": "execute_result"
    }
   ],
   "source": [
    "(def data (vec (rest (s/split-lines (slurp \"Clean-Data.csv\") ) ) ) )"
   ]
  },
  {
   "cell_type": "markdown",
   "id": "classified-progress",
   "metadata": {},
   "source": [
    "Conversion de datos"
   ]
  },
  {
   "cell_type": "code",
   "execution_count": 18,
   "id": "offshore-huntington",
   "metadata": {},
   "outputs": [
    {
     "data": {
      "text/plain": [
       "#'user/toMovie"
      ]
     },
     "execution_count": 18,
     "metadata": {},
     "output_type": "execute_result"
    }
   ],
   "source": [
    "(defn toMovie[ record ]\n",
    "    (Movie. \n",
    "         (toInt(get record 0))  \n",
    "         (toDouble (get record 1))\n",
    "         (toInt (get record 2)) \n",
    "         (toDouble (get record 3))\n",
    "     )\n",
    ")"
   ]
  },
  {
   "cell_type": "code",
   "execution_count": 19,
   "id": "rotary-detective",
   "metadata": {},
   "outputs": [
    {
     "data": {
      "text/plain": [
       "#'user/get-Movies-lazy"
      ]
     },
     "execution_count": 19,
     "metadata": {},
     "output_type": "execute_result"
    }
   ],
   "source": [
    "(defn get-Movies-lazy [datos] \n",
    "    (lazy-seq (cons (toMovie (s/split (first datos) #\",\"))(get-Movies-lazy (rest datos))) )\n",
    "    )"
   ]
  },
  {
   "cell_type": "code",
   "execution_count": 20,
   "id": "australian-understanding",
   "metadata": {},
   "outputs": [
    {
     "data": {
      "text/plain": [
       "#'user/get-Vector-Valor"
      ]
     },
     "execution_count": 20,
     "metadata": {},
     "output_type": "execute_result"
    }
   ],
   "source": [
    "(defn get-Vector-Valor [datos, valor]\n",
    "    (lazy-seq (cons (valor (first datos))(get-Vector-Valor (rest datos) valor)))\n",
    "    )"
   ]
  },
  {
   "cell_type": "code",
   "execution_count": 21,
   "id": "steady-garlic",
   "metadata": {},
   "outputs": [
    {
     "data": {
      "text/plain": [
       "#'user/movies"
      ]
     },
     "execution_count": 21,
     "metadata": {},
     "output_type": "execute_result"
    }
   ],
   "source": [
    "(def movies (take 20 (get-Movies-lazy data)))"
   ]
  },
  {
   "cell_type": "code",
   "execution_count": 22,
   "id": "nutritional-advertising",
   "metadata": {},
   "outputs": [
    {
     "data": {
      "text/plain": [
       "#'user/imdb"
      ]
     },
     "execution_count": 22,
     "metadata": {},
     "output_type": "execute_result"
    }
   ],
   "source": [
    "(def imdb (vec (take 20 (get-Vector-Valor movies :imdb))))"
   ]
  },
  {
   "cell_type": "code",
   "execution_count": 23,
   "id": "federal-benchmark",
   "metadata": {},
   "outputs": [
    {
     "data": {
      "text/plain": [
       "#'user/rottenTomato"
      ]
     },
     "execution_count": 23,
     "metadata": {},
     "output_type": "execute_result"
    }
   ],
   "source": [
    "(def rottenTomato (vec (take 20 (get-Vector-Valor movies :rottenTomato))))"
   ]
  },
  {
   "cell_type": "code",
   "execution_count": 10,
   "id": "induced-saturday",
   "metadata": {
    "scrolled": true
   },
   "outputs": [
    {
     "data": {
      "text/plain": [
       "#'user/runtime"
      ]
     },
     "execution_count": 10,
     "metadata": {},
     "output_type": "execute_result"
    }
   ],
   "source": [
    "(def runtime (vec (take 20 (get-Vector-Valor movies :runtime))))"
   ]
  },
  {
   "cell_type": "code",
   "execution_count": 24,
   "id": "embedded-friend",
   "metadata": {},
   "outputs": [
    {
     "data": {
      "text/plain": [
       "#'user/x0"
      ]
     },
     "execution_count": 24,
     "metadata": {},
     "output_type": "execute_result"
    }
   ],
   "source": [
    "(def x0 (vec (take 20 (get-Vector-Valor movies :x0))))"
   ]
  },
  {
   "cell_type": "code",
   "execution_count": 25,
   "id": "exact-authorization",
   "metadata": {},
   "outputs": [
    {
     "data": {
      "text/plain": [
       "#'user/matrixA"
      ]
     },
     "execution_count": 25,
     "metadata": {},
     "output_type": "execute_result"
    }
   ],
   "source": [
    "(def matrixA [x0 imdb runtime])"
   ]
  },
  {
   "cell_type": "code",
   "execution_count": 26,
   "id": "median-slovak",
   "metadata": {},
   "outputs": [
    {
     "data": {
      "text/plain": [
       "[[1 1 1 1 1 1 1 1 1 1 1 1 1 1 1 1 1 1 1 1] [5.9 5.0 8.2 5.3 7.0 6.5 5.9 6.6 5.1 5.5 6.4 6.6 7.7 7.8 5.0 5.6 5.6 5.4 7.4 8.0] [61 90 83 60 68 132 166 56 105 152 60 90 135 75 102 89 50 130 87 91]]"
      ]
     },
     "execution_count": 26,
     "metadata": {},
     "output_type": "execute_result"
    }
   ],
   "source": [
    "matrixA"
   ]
  },
  {
   "cell_type": "markdown",
   "id": "round-atlanta",
   "metadata": {},
   "source": [
    "Transpuesta"
   ]
  },
  {
   "cell_type": "code",
   "execution_count": 27,
   "id": "opposed-content",
   "metadata": {},
   "outputs": [
    {
     "data": {
      "text/plain": [
       "#'user/get-New-Col"
      ]
     },
     "execution_count": 27,
     "metadata": {},
     "output_type": "execute_result"
    }
   ],
   "source": [
    "(defn get-New-Col [matrix]\n",
    "    (def newCol [(first (get matrix 0))(first (get matrix 1)) (first (get matrix 2))])\n",
    "    newCol\n",
    "    )"
   ]
  },
  {
   "cell_type": "code",
   "execution_count": 28,
   "id": "thousand-gentleman",
   "metadata": {},
   "outputs": [
    {
     "data": {
      "text/plain": [
       "#'user/transpuesta"
      ]
     },
     "execution_count": 28,
     "metadata": {},
     "output_type": "execute_result"
    }
   ],
   "source": [
    "(defn transpuesta [matrix]\n",
    "    (loop [mResult (atom '()) mTemp matrix] \n",
    "         (if (= 0 (count (get mTemp 1)))\n",
    "             mResult\n",
    "             (do\n",
    "                 (def m (get-New-Col mTemp))\n",
    "                 (swap! mResult conj m)\n",
    "                 (recur mResult [(vec (rest (get mTemp 0)))(vec (rest (get mTemp 1))) (vec (rest (get mTemp 2)))])\n",
    "                 )\n",
    "             )\n",
    "        )\n",
    "    )"
   ]
  },
  {
   "cell_type": "code",
   "execution_count": 29,
   "id": "alert-tokyo",
   "metadata": {},
   "outputs": [
    {
     "data": {
      "text/plain": [
       "#'user/matrix_transpuesta"
      ]
     },
     "execution_count": 29,
     "metadata": {},
     "output_type": "execute_result"
    }
   ],
   "source": [
    "(def matrix_transpuesta (vec @(transpuesta matrixA)))"
   ]
  },
  {
   "cell_type": "markdown",
   "id": "hired-ordinary",
   "metadata": {},
   "source": [
    "Multiplicador de matrices\n"
   ]
  },
  {
   "cell_type": "code",
   "execution_count": 31,
   "id": "occupied-transmission",
   "metadata": {},
   "outputs": [
    {
     "data": {
      "text/plain": [
       "[[1 1 1 1 1 1 1 1 1 1 1 1 1 1 1 1 1 1 1 1] [5.9 5.0 8.2 5.3 7.0 6.5 5.9 6.6 5.1 5.5 6.4 6.6 7.7 7.8 5.0 5.6 5.6 5.4 7.4 8.0] [61 90 83 60 68 132 166 56 105 152 60 90 135 75 102 89 50 130 87 91]]"
      ]
     },
     "execution_count": 31,
     "metadata": {},
     "output_type": "execute_result"
    }
   ],
   "source": [
    "matrixA"
   ]
  },
  {
   "cell_type": "code",
   "execution_count": 30,
   "id": "grave-impact",
   "metadata": {
    "scrolled": true
   },
   "outputs": [
    {
     "data": {
      "text/plain": [
       "[[1 8.0 91] [1 7.4 87] [1 5.4 130] [1 5.6 50] [1 5.6 89] [1 5.0 102] [1 7.8 75] [1 7.7 135] [1 6.6 90] [1 6.4 60] [1 5.5 152] [1 5.1 105] [1 6.6 56] [1 5.9 166] [1 6.5 132] [1 7.0 68] [1 5.3 60] [1 8.2 83] [1 5.0 90] [1 5.9 61]]"
      ]
     },
     "execution_count": 30,
     "metadata": {},
     "output_type": "execute_result"
    }
   ],
   "source": [
    " matrix_transpuesta"
   ]
  },
  {
   "cell_type": "code",
   "execution_count": 157,
   "id": "adult-choice",
   "metadata": {},
   "outputs": [
    {
     "data": {
      "text/plain": [
       "#'user/get-Mult-Val"
      ]
     },
     "execution_count": 157,
     "metadata": {},
     "output_type": "execute_result"
    }
   ],
   "source": [
    "(defn get-Mult-Val [matrixA matrixB x]\n",
    "     (loop [newValue 0 n 0]\n",
    "       (if (= n (count matrixA))\n",
    "            newValue\n",
    "            (do\n",
    "                (recur (+ (* (get matrixA n)(get (get matrixB n) x)) newValue) (inc n))    \n",
    "            )\n",
    "        )\n",
    "    )\n",
    ")"
   ]
  },
  {
   "cell_type": "code",
   "execution_count": 158,
   "id": "improving-stopping",
   "metadata": {},
   "outputs": [
    {
     "data": {
      "text/plain": [
       "#'user/multiplicacion"
      ]
     },
     "execution_count": 158,
     "metadata": {},
     "output_type": "execute_result"
    }
   ],
   "source": [
    "(defn multiplicacion [matrixA matrixTranspuesta]\n",
    "    (loop [mResult (atom '())  n 0]\n",
    "         (if (= n (count matrixTranspuesta))\n",
    "             mResult\n",
    "             (do\n",
    "                 (def vectorTemp [(get-Mult-Val (get matrixTranspuesta n) matrixA 0) (get-Mult-Val (get matrixTranspuesta n) matrixA 1) (get-Mult-Val (get matrixTranspuesta n) matrixA 2)])                 \n",
    "                 (swap! mResult conj vectorTemp)\n",
    "                 (recur mResult (inc n))\n",
    "                 \n",
    "             )\n",
    "        )\n",
    "    )\n",
    ")"
   ]
  },
  {
   "cell_type": "code",
   "execution_count": 159,
   "id": "fleet-mortgage",
   "metadata": {},
   "outputs": [
    {
     "data": {
      "text/plain": [
       "#'user/matrix_multiplicacion"
      ]
     },
     "execution_count": 159,
     "metadata": {},
     "output_type": "execute_result"
    }
   ],
   "source": [
    "(def matrix_multiplicacion (vec (reverse @(multiplicacion matrix_transpuesta matrixA))))"
   ]
  },
  {
   "cell_type": "code",
   "execution_count": 160,
   "id": "careful-recovery",
   "metadata": {},
   "outputs": [
    {
     "data": {
      "text/plain": [
       "[[20 126.5 1882] [126.5 791.12 12082.199999999999] [1882 12082.199999999999 170534]]"
      ]
     },
     "execution_count": 160,
     "metadata": {},
     "output_type": "execute_result"
    }
   ],
   "source": [
    "matrix_multiplicacion"
   ]
  },
  {
   "cell_type": "code",
   "execution_count": 144,
   "id": "olympic-bulgarian",
   "metadata": {},
   "outputs": [
    {
     "data": {
      "text/plain": [
       "#'user/get-Mult-Val"
      ]
     },
     "execution_count": 144,
     "metadata": {},
     "output_type": "execute_result"
    }
   ],
   "source": [
    "(defn get-Mult-Val [matrixA matrixB x]\n",
    "   \n",
    "   (loop [newValue 0 n 0]\n",
    "    (if (= n (count matrixA))\n",
    "        (println newVal, n, matrixA)\n",
    "        (do\n",
    "            (println (get matrixA n), (get (get matrixB n) x), newValue)\n",
    "            (recur (+ (* (get matrixA n)(get (get matrixB n) x)) newValue) (inc n))\n",
    "        )\n",
    "    )\n",
    "   )\n",
    ")"
   ]
  },
  {
   "cell_type": "markdown",
   "id": "sensitive-priority",
   "metadata": {},
   "source": [
    "Inversa"
   ]
  },
  {
   "cell_type": "code",
   "execution_count": 133,
   "id": "indirect-junction",
   "metadata": {},
   "outputs": [
    {
     "data": {
      "text/plain": [
       "#'user/matrix_i"
      ]
     },
     "execution_count": 133,
     "metadata": {},
     "output_type": "execute_result"
    }
   ],
   "source": [
    "(def matrix_i (vec '([1 0 0] [0 1 0] [0 0 1])))\n"
   ]
  },
  {
   "cell_type": "code",
   "execution_count": 134,
   "id": "anonymous-suffering",
   "metadata": {},
   "outputs": [
    {
     "name": "stdout",
     "output_type": "stream",
     "text": [
      "[100.9 96.9 139.9]\n",
      "[938.3700000000001 901.1700000000001 1301.07]\n",
      "[8415.0 8083.0 11652.0]\n"
     ]
    },
    {
     "data": {
      "text/plain": [
       "#'user/matrix_inversa"
      ]
     },
     "execution_count": 134,
     "metadata": {},
     "output_type": "execute_result"
    }
   ],
   "source": [
    "(def matrix_inversa (vec (reverse @(multiplicacion matrix_multiplicacion matrix_i))))"
   ]
  },
  {
   "cell_type": "code",
   "execution_count": 148,
   "id": "varied-austria",
   "metadata": {},
   "outputs": [
    {
     "name": "stderr",
     "output_type": "stream",
     "text": [
      "Execution error (NullPointerException) at (REPL:1).\r\n",
      "null\r\n"
     ]
    },
    {
     "ename": "class clojure.lang.Compiler$CompilerException",
     "evalue": "",
     "output_type": "error",
     "traceback": [
      "null:  null null"
     ]
    }
   ],
   "source": [
    "(def matrix_resultado (reverse @(multiplicacion matrix_transpuesta rottenTomato)))"
   ]
  },
  {
   "cell_type": "code",
   "execution_count": 149,
   "id": "superb-thought",
   "metadata": {},
   "outputs": [
    {
     "name": "stdout",
     "output_type": "stream",
     "text": [
      "[[1 8.9 91] [1 8.9 87] [1 8.9 130] [1 8.9 50] [1 8.9 89] [1 8.9 102] [1 8.9 75] [1 8.9 135] [1 9.0 90] [1 9.0 60] [1 9.0 152] [1 9.1 105] [1 9.1 56] [1 9.1 166] [1 9.3 132] [1 9.3 68] [1 9.3 60] [1 9.3 83] [1 9.3 90] [1 9.3 61]]"
     ]
    },
    {
     "data": {
      "text/plain": [
       "nil"
      ]
     },
     "execution_count": 149,
     "metadata": {},
     "output_type": "execute_result"
    }
   ],
   "source": [
    "(print matrix_transpuesta)"
   ]
  },
  {
   "cell_type": "code",
   "execution_count": null,
   "id": "driven-auckland",
   "metadata": {},
   "outputs": [],
   "source": []
  }
 ],
 "metadata": {
  "kernelspec": {
   "display_name": "Clojure (clojupyter=0.3.2=1)",
   "language": "clojure",
   "name": "conda-clojupyter"
  },
  "language_info": {
   "file_extension": ".clj",
   "mimetype": "text/x-clojure",
   "name": "clojure",
   "version": "1.10.1"
  }
 },
 "nbformat": 4,
 "nbformat_minor": 5
}
